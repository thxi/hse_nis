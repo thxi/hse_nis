{
 "cells": [
  {
   "cell_type": "markdown",
   "metadata": {
    "toc": true
   },
   "source": [
    "<h1>Table of Contents<span class=\"tocSkip\"></span></h1>\n",
    "<div class=\"toc\"><ul class=\"toc-item\"><li><span><a href=\"#Data\" data-toc-modified-id=\"Data-1\"><span class=\"toc-item-num\">1&nbsp;&nbsp;</span>Data</a></span><ul class=\"toc-item\"><li><span><a href=\"#elspot\" data-toc-modified-id=\"elspot-1.1\"><span class=\"toc-item-num\">1.1&nbsp;&nbsp;</span>elspot</a></span></li><li><span><a href=\"#NAB\" data-toc-modified-id=\"NAB-1.2\"><span class=\"toc-item-num\">1.2&nbsp;&nbsp;</span>NAB</a></span></li></ul></li><li><span><a href=\"#algorithms\" data-toc-modified-id=\"algorithms-2\"><span class=\"toc-item-num\">2&nbsp;&nbsp;</span>algorithms</a></span><ul class=\"toc-item\"><li><span><a href=\"#table-5\" data-toc-modified-id=\"table-5-2.1\"><span class=\"toc-item-num\">2.1&nbsp;&nbsp;</span>table 5</a></span></li></ul></li></ul></div>"
   ]
  },
  {
   "cell_type": "code",
   "execution_count": 3,
   "metadata": {
    "ExecuteTime": {
     "end_time": "2022-02-23T14:21:54.899059Z",
     "start_time": "2022-02-23T14:21:54.873662Z"
    }
   },
   "outputs": [],
   "source": [
    "%load_ext autoreload\n",
    "%autoreload 2"
   ]
  },
  {
   "cell_type": "code",
   "execution_count": 4,
   "metadata": {
    "ExecuteTime": {
     "end_time": "2022-02-23T14:22:00.289153Z",
     "start_time": "2022-02-23T14:21:58.286012Z"
    }
   },
   "outputs": [],
   "source": [
    "import pandas as pd\n",
    "import numpy as np\n",
    "import seaborn as sns\n",
    "import matplotlib.pyplot as plt\n",
    "\n",
    "sns.set()\n",
    "sns.set_style(style='white') \n",
    "\n",
    "from tqdm.auto import tqdm"
   ]
  },
  {
   "cell_type": "code",
   "execution_count": 5,
   "metadata": {
    "ExecuteTime": {
     "end_time": "2022-02-23T15:42:56.567460Z",
     "start_time": "2022-02-23T15:42:56.543196Z"
    }
   },
   "outputs": [],
   "source": [
    "import json"
   ]
  },
  {
   "cell_type": "markdown",
   "metadata": {},
   "source": [
    "## Data"
   ]
  },
  {
   "cell_type": "markdown",
   "metadata": {},
   "source": [
    "### elspot"
   ]
  },
  {
   "cell_type": "markdown",
   "metadata": {},
   "source": [
    "We collected NordPool’s Elspot data from January 2016 to\n",
    "September 2018"
   ]
  },
  {
   "cell_type": "markdown",
   "metadata": {},
   "source": [
    "which contains hourly spot prices, the vol-\n",
    "ume of electricity (demand and production), price area, and\n",
    "timestamp"
   ]
  },
  {
   "cell_type": "markdown",
   "metadata": {
    "ExecuteTime": {
     "end_time": "2022-02-23T14:25:10.317281Z",
     "start_time": "2022-02-23T14:25:10.288942Z"
    }
   },
   "source": [
    "currency? just use EUR"
   ]
  },
  {
   "cell_type": "markdown",
   "metadata": {},
   "source": [
    "https://www.nordpoolgroup.com/historical-market-data/"
   ]
  },
  {
   "cell_type": "code",
   "execution_count": 6,
   "metadata": {
    "ExecuteTime": {
     "end_time": "2022-02-23T14:45:04.453986Z",
     "start_time": "2022-02-23T14:45:04.376169Z"
    }
   },
   "outputs": [
    {
     "name": "stderr",
     "output_type": "stream",
     "text": [
      "/Users/macbook/anaconda3/lib/python3.7/site-packages/ipykernel_launcher.py:4: FutureWarning: Sorting because non-concatenation axis is not aligned. A future version\n",
      "of pandas will change to not sort by default.\n",
      "\n",
      "To accept the future behavior, pass 'sort=False'.\n",
      "\n",
      "To retain the current behavior and silence the warning, pass 'sort=True'.\n",
      "\n",
      "  after removing the cwd from sys.path.\n"
     ]
    }
   ],
   "source": [
    "prices = []\n",
    "for year in [2016, 2017, 2018]:\n",
    "    prices.append(pd.read_csv(f'price{year}.csv', header=2, decimal=\",\"))\n",
    "prices = pd.concat(prices)"
   ]
  },
  {
   "cell_type": "code",
   "execution_count": 7,
   "metadata": {
    "ExecuteTime": {
     "end_time": "2022-02-23T14:46:14.759808Z",
     "start_time": "2022-02-23T14:46:14.643876Z"
    }
   },
   "outputs": [],
   "source": [
    "volumes = []\n",
    "for year in [2016, 2017, 2018]:\n",
    "    volumes.append(pd.read_csv(f'volume{year}.csv', header=3, decimal=\",\"))\n",
    "volumes = pd.concat(volumes)"
   ]
  },
  {
   "cell_type": "code",
   "execution_count": 8,
   "metadata": {
    "ExecuteTime": {
     "end_time": "2022-02-23T14:46:15.125915Z",
     "start_time": "2022-02-23T14:46:15.104426Z"
    }
   },
   "outputs": [
    {
     "data": {
      "text/plain": [
       "((26307, 20), (26307, 35))"
      ]
     },
     "execution_count": 8,
     "metadata": {},
     "output_type": "execute_result"
    }
   ],
   "source": [
    "prices.shape, volumes.shape"
   ]
  },
  {
   "cell_type": "code",
   "execution_count": 9,
   "metadata": {
    "ExecuteTime": {
     "end_time": "2022-02-23T14:46:15.304006Z",
     "start_time": "2022-02-23T14:46:15.267222Z"
    }
   },
   "outputs": [
    {
     "data": {
      "text/html": [
       "<div>\n",
       "<style scoped>\n",
       "    .dataframe tbody tr th:only-of-type {\n",
       "        vertical-align: middle;\n",
       "    }\n",
       "\n",
       "    .dataframe tbody tr th {\n",
       "        vertical-align: top;\n",
       "    }\n",
       "\n",
       "    .dataframe thead th {\n",
       "        text-align: right;\n",
       "    }\n",
       "</style>\n",
       "<table border=\"1\" class=\"dataframe\">\n",
       "  <thead>\n",
       "    <tr style=\"text-align: right;\">\n",
       "      <th></th>\n",
       "      <th>Bergen</th>\n",
       "      <th>DK1</th>\n",
       "      <th>DK2</th>\n",
       "      <th>EE</th>\n",
       "      <th>FI</th>\n",
       "      <th>FRE</th>\n",
       "      <th>Hours</th>\n",
       "      <th>Kr.sand</th>\n",
       "      <th>LT</th>\n",
       "      <th>LV</th>\n",
       "      <th>Molde</th>\n",
       "      <th>Oslo</th>\n",
       "      <th>SE1</th>\n",
       "      <th>SE2</th>\n",
       "      <th>SE3</th>\n",
       "      <th>SE4</th>\n",
       "      <th>SYS</th>\n",
       "      <th>Tr.heim</th>\n",
       "      <th>Tromsø</th>\n",
       "      <th>Unnamed: 0</th>\n",
       "    </tr>\n",
       "  </thead>\n",
       "  <tbody>\n",
       "    <tr>\n",
       "      <th>0</th>\n",
       "      <td>16.39</td>\n",
       "      <td>16.39</td>\n",
       "      <td>16.39</td>\n",
       "      <td>16.39</td>\n",
       "      <td>16.39</td>\n",
       "      <td>NaN</td>\n",
       "      <td>00 - 01</td>\n",
       "      <td>16.39</td>\n",
       "      <td>28.11</td>\n",
       "      <td>28.11</td>\n",
       "      <td>16.39</td>\n",
       "      <td>16.39</td>\n",
       "      <td>16.39</td>\n",
       "      <td>16.39</td>\n",
       "      <td>16.39</td>\n",
       "      <td>16.39</td>\n",
       "      <td>16.39</td>\n",
       "      <td>16.39</td>\n",
       "      <td>16.39</td>\n",
       "      <td>01-01-2016</td>\n",
       "    </tr>\n",
       "    <tr>\n",
       "      <th>1</th>\n",
       "      <td>16.04</td>\n",
       "      <td>16.04</td>\n",
       "      <td>16.04</td>\n",
       "      <td>16.04</td>\n",
       "      <td>16.04</td>\n",
       "      <td>NaN</td>\n",
       "      <td>01 - 02</td>\n",
       "      <td>16.04</td>\n",
       "      <td>16.04</td>\n",
       "      <td>16.04</td>\n",
       "      <td>16.04</td>\n",
       "      <td>16.04</td>\n",
       "      <td>16.04</td>\n",
       "      <td>16.04</td>\n",
       "      <td>16.04</td>\n",
       "      <td>16.04</td>\n",
       "      <td>16.04</td>\n",
       "      <td>16.04</td>\n",
       "      <td>16.04</td>\n",
       "      <td>01-01-2016</td>\n",
       "    </tr>\n",
       "    <tr>\n",
       "      <th>2</th>\n",
       "      <td>15.74</td>\n",
       "      <td>15.74</td>\n",
       "      <td>15.74</td>\n",
       "      <td>15.74</td>\n",
       "      <td>15.74</td>\n",
       "      <td>NaN</td>\n",
       "      <td>02 - 03</td>\n",
       "      <td>15.74</td>\n",
       "      <td>15.74</td>\n",
       "      <td>15.74</td>\n",
       "      <td>15.74</td>\n",
       "      <td>15.74</td>\n",
       "      <td>15.74</td>\n",
       "      <td>15.74</td>\n",
       "      <td>15.74</td>\n",
       "      <td>15.74</td>\n",
       "      <td>15.74</td>\n",
       "      <td>15.74</td>\n",
       "      <td>15.74</td>\n",
       "      <td>01-01-2016</td>\n",
       "    </tr>\n",
       "    <tr>\n",
       "      <th>3</th>\n",
       "      <td>15.57</td>\n",
       "      <td>15.57</td>\n",
       "      <td>15.57</td>\n",
       "      <td>15.57</td>\n",
       "      <td>15.57</td>\n",
       "      <td>NaN</td>\n",
       "      <td>03 - 04</td>\n",
       "      <td>15.57</td>\n",
       "      <td>15.57</td>\n",
       "      <td>15.57</td>\n",
       "      <td>15.57</td>\n",
       "      <td>15.57</td>\n",
       "      <td>15.57</td>\n",
       "      <td>15.57</td>\n",
       "      <td>15.57</td>\n",
       "      <td>15.57</td>\n",
       "      <td>15.57</td>\n",
       "      <td>15.57</td>\n",
       "      <td>15.57</td>\n",
       "      <td>01-01-2016</td>\n",
       "    </tr>\n",
       "    <tr>\n",
       "      <th>4</th>\n",
       "      <td>15.47</td>\n",
       "      <td>15.47</td>\n",
       "      <td>15.47</td>\n",
       "      <td>15.47</td>\n",
       "      <td>15.47</td>\n",
       "      <td>NaN</td>\n",
       "      <td>04 - 05</td>\n",
       "      <td>15.47</td>\n",
       "      <td>15.47</td>\n",
       "      <td>15.47</td>\n",
       "      <td>15.47</td>\n",
       "      <td>15.47</td>\n",
       "      <td>15.47</td>\n",
       "      <td>15.47</td>\n",
       "      <td>15.47</td>\n",
       "      <td>15.47</td>\n",
       "      <td>15.47</td>\n",
       "      <td>15.47</td>\n",
       "      <td>15.47</td>\n",
       "      <td>01-01-2016</td>\n",
       "    </tr>\n",
       "  </tbody>\n",
       "</table>\n",
       "</div>"
      ],
      "text/plain": [
       "   Bergen    DK1    DK2     EE     FI  FRE    Hours  Kr.sand     LT     LV  \\\n",
       "0   16.39  16.39  16.39  16.39  16.39  NaN  00 - 01    16.39  28.11  28.11   \n",
       "1   16.04  16.04  16.04  16.04  16.04  NaN  01 - 02    16.04  16.04  16.04   \n",
       "2   15.74  15.74  15.74  15.74  15.74  NaN  02 - 03    15.74  15.74  15.74   \n",
       "3   15.57  15.57  15.57  15.57  15.57  NaN  03 - 04    15.57  15.57  15.57   \n",
       "4   15.47  15.47  15.47  15.47  15.47  NaN  04 - 05    15.47  15.47  15.47   \n",
       "\n",
       "   Molde   Oslo    SE1    SE2    SE3    SE4    SYS  Tr.heim  Tromsø  \\\n",
       "0  16.39  16.39  16.39  16.39  16.39  16.39  16.39    16.39   16.39   \n",
       "1  16.04  16.04  16.04  16.04  16.04  16.04  16.04    16.04   16.04   \n",
       "2  15.74  15.74  15.74  15.74  15.74  15.74  15.74    15.74   15.74   \n",
       "3  15.57  15.57  15.57  15.57  15.57  15.57  15.57    15.57   15.57   \n",
       "4  15.47  15.47  15.47  15.47  15.47  15.47  15.47    15.47   15.47   \n",
       "\n",
       "   Unnamed: 0  \n",
       "0  01-01-2016  \n",
       "1  01-01-2016  \n",
       "2  01-01-2016  \n",
       "3  01-01-2016  \n",
       "4  01-01-2016  "
      ]
     },
     "execution_count": 9,
     "metadata": {},
     "output_type": "execute_result"
    }
   ],
   "source": [
    "prices.head()"
   ]
  },
  {
   "cell_type": "code",
   "execution_count": 10,
   "metadata": {
    "ExecuteTime": {
     "end_time": "2022-02-23T14:46:15.495935Z",
     "start_time": "2022-02-23T14:46:15.455036Z"
    }
   },
   "outputs": [
    {
     "data": {
      "text/html": [
       "<div>\n",
       "<style scoped>\n",
       "    .dataframe tbody tr th:only-of-type {\n",
       "        vertical-align: middle;\n",
       "    }\n",
       "\n",
       "    .dataframe tbody tr th {\n",
       "        vertical-align: top;\n",
       "    }\n",
       "\n",
       "    .dataframe thead th {\n",
       "        text-align: right;\n",
       "    }\n",
       "</style>\n",
       "<table border=\"1\" class=\"dataframe\">\n",
       "  <thead>\n",
       "    <tr style=\"text-align: right;\">\n",
       "      <th></th>\n",
       "      <th>Unnamed: 0</th>\n",
       "      <th>Hours</th>\n",
       "      <th>Turnover at system price</th>\n",
       "      <th>NO1 Buy</th>\n",
       "      <th>NO1 Sell</th>\n",
       "      <th>NO2 Buy</th>\n",
       "      <th>NO2 Sell</th>\n",
       "      <th>NO3 Buy</th>\n",
       "      <th>NO3 Sell</th>\n",
       "      <th>NO4 Buy</th>\n",
       "      <th>...</th>\n",
       "      <th>DK1 Buy</th>\n",
       "      <th>DK1 Sell</th>\n",
       "      <th>DK2 Buy</th>\n",
       "      <th>DK2 Sell</th>\n",
       "      <th>EE Buy</th>\n",
       "      <th>EE Sell</th>\n",
       "      <th>LV Buy</th>\n",
       "      <th>LV Sell</th>\n",
       "      <th>LT Buy</th>\n",
       "      <th>LT Sell</th>\n",
       "    </tr>\n",
       "  </thead>\n",
       "  <tbody>\n",
       "    <tr>\n",
       "      <th>0</th>\n",
       "      <td>01-01-2016</td>\n",
       "      <td>00 - 01</td>\n",
       "      <td>40180.1</td>\n",
       "      <td>4187.9</td>\n",
       "      <td>1451.4</td>\n",
       "      <td>4564.4</td>\n",
       "      <td>7863.9</td>\n",
       "      <td>2355.9</td>\n",
       "      <td>1485.3</td>\n",
       "      <td>1827.5</td>\n",
       "      <td>...</td>\n",
       "      <td>1295.7</td>\n",
       "      <td>1417.7</td>\n",
       "      <td>1988.5</td>\n",
       "      <td>824.6</td>\n",
       "      <td>729.2</td>\n",
       "      <td>838.4</td>\n",
       "      <td>743.6</td>\n",
       "      <td>435.6</td>\n",
       "      <td>931.9</td>\n",
       "      <td>610.9</td>\n",
       "    </tr>\n",
       "    <tr>\n",
       "      <th>1</th>\n",
       "      <td>01-01-2016</td>\n",
       "      <td>01 - 02</td>\n",
       "      <td>39293.8</td>\n",
       "      <td>4073.5</td>\n",
       "      <td>1451.8</td>\n",
       "      <td>4517.4</td>\n",
       "      <td>7573.3</td>\n",
       "      <td>2331.1</td>\n",
       "      <td>1383.4</td>\n",
       "      <td>1813.0</td>\n",
       "      <td>...</td>\n",
       "      <td>1238.4</td>\n",
       "      <td>1447.8</td>\n",
       "      <td>1945.9</td>\n",
       "      <td>807.2</td>\n",
       "      <td>694.1</td>\n",
       "      <td>834.2</td>\n",
       "      <td>708.3</td>\n",
       "      <td>434.3</td>\n",
       "      <td>884.8</td>\n",
       "      <td>559.3</td>\n",
       "    </tr>\n",
       "    <tr>\n",
       "      <th>2</th>\n",
       "      <td>01-01-2016</td>\n",
       "      <td>02 - 03</td>\n",
       "      <td>38513.8</td>\n",
       "      <td>3988.8</td>\n",
       "      <td>1445.7</td>\n",
       "      <td>4467.1</td>\n",
       "      <td>7195.2</td>\n",
       "      <td>2311.4</td>\n",
       "      <td>1349.6</td>\n",
       "      <td>1797.6</td>\n",
       "      <td>...</td>\n",
       "      <td>1174.7</td>\n",
       "      <td>1483.5</td>\n",
       "      <td>1895.1</td>\n",
       "      <td>794.4</td>\n",
       "      <td>681.6</td>\n",
       "      <td>835.0</td>\n",
       "      <td>680.8</td>\n",
       "      <td>432.6</td>\n",
       "      <td>850.4</td>\n",
       "      <td>573.1</td>\n",
       "    </tr>\n",
       "    <tr>\n",
       "      <th>3</th>\n",
       "      <td>01-01-2016</td>\n",
       "      <td>03 - 04</td>\n",
       "      <td>38126.8</td>\n",
       "      <td>3944.6</td>\n",
       "      <td>1441.5</td>\n",
       "      <td>4450.5</td>\n",
       "      <td>6963.3</td>\n",
       "      <td>2293.1</td>\n",
       "      <td>1333.7</td>\n",
       "      <td>1785.4</td>\n",
       "      <td>...</td>\n",
       "      <td>1115.1</td>\n",
       "      <td>1561.0</td>\n",
       "      <td>1847.0</td>\n",
       "      <td>817.5</td>\n",
       "      <td>675.7</td>\n",
       "      <td>832.8</td>\n",
       "      <td>659.6</td>\n",
       "      <td>432.1</td>\n",
       "      <td>939.1</td>\n",
       "      <td>584.3</td>\n",
       "    </tr>\n",
       "    <tr>\n",
       "      <th>4</th>\n",
       "      <td>01-01-2016</td>\n",
       "      <td>04 - 05</td>\n",
       "      <td>37894.3</td>\n",
       "      <td>3946.1</td>\n",
       "      <td>1451.0</td>\n",
       "      <td>4429.1</td>\n",
       "      <td>6864.6</td>\n",
       "      <td>2284.8</td>\n",
       "      <td>1319.2</td>\n",
       "      <td>1776.0</td>\n",
       "      <td>...</td>\n",
       "      <td>1089.2</td>\n",
       "      <td>1587.7</td>\n",
       "      <td>1714.7</td>\n",
       "      <td>844.6</td>\n",
       "      <td>678.0</td>\n",
       "      <td>832.4</td>\n",
       "      <td>659.6</td>\n",
       "      <td>438.9</td>\n",
       "      <td>942.1</td>\n",
       "      <td>585.3</td>\n",
       "    </tr>\n",
       "  </tbody>\n",
       "</table>\n",
       "<p>5 rows × 35 columns</p>\n",
       "</div>"
      ],
      "text/plain": [
       "   Unnamed: 0    Hours  Turnover at system price  NO1 Buy  NO1 Sell  NO2 Buy  \\\n",
       "0  01-01-2016  00 - 01                   40180.1   4187.9    1451.4   4564.4   \n",
       "1  01-01-2016  01 - 02                   39293.8   4073.5    1451.8   4517.4   \n",
       "2  01-01-2016  02 - 03                   38513.8   3988.8    1445.7   4467.1   \n",
       "3  01-01-2016  03 - 04                   38126.8   3944.6    1441.5   4450.5   \n",
       "4  01-01-2016  04 - 05                   37894.3   3946.1    1451.0   4429.1   \n",
       "\n",
       "   NO2 Sell  NO3 Buy  NO3 Sell  NO4 Buy  ...  DK1 Buy  DK1 Sell  DK2 Buy  \\\n",
       "0    7863.9   2355.9    1485.3   1827.5  ...   1295.7    1417.7   1988.5   \n",
       "1    7573.3   2331.1    1383.4   1813.0  ...   1238.4    1447.8   1945.9   \n",
       "2    7195.2   2311.4    1349.6   1797.6  ...   1174.7    1483.5   1895.1   \n",
       "3    6963.3   2293.1    1333.7   1785.4  ...   1115.1    1561.0   1847.0   \n",
       "4    6864.6   2284.8    1319.2   1776.0  ...   1089.2    1587.7   1714.7   \n",
       "\n",
       "   DK2 Sell  EE Buy  EE Sell  LV Buy  LV Sell  LT Buy  LT Sell  \n",
       "0     824.6   729.2    838.4   743.6    435.6   931.9    610.9  \n",
       "1     807.2   694.1    834.2   708.3    434.3   884.8    559.3  \n",
       "2     794.4   681.6    835.0   680.8    432.6   850.4    573.1  \n",
       "3     817.5   675.7    832.8   659.6    432.1   939.1    584.3  \n",
       "4     844.6   678.0    832.4   659.6    438.9   942.1    585.3  \n",
       "\n",
       "[5 rows x 35 columns]"
      ]
     },
     "execution_count": 10,
     "metadata": {},
     "output_type": "execute_result"
    }
   ],
   "source": [
    "volumes.head()"
   ]
  },
  {
   "cell_type": "code",
   "execution_count": 11,
   "metadata": {
    "ExecuteTime": {
     "end_time": "2022-02-23T14:47:56.045810Z",
     "start_time": "2022-02-23T14:47:55.998497Z"
    }
   },
   "outputs": [
    {
     "name": "stdout",
     "output_type": "stream",
     "text": [
      "<class 'pandas.core.frame.DataFrame'>\n",
      "Int64Index: 26307 entries, 0 to 8760\n",
      "Data columns (total 20 columns):\n",
      "Bergen        26304 non-null float64\n",
      "DK1           26304 non-null float64\n",
      "DK2           26304 non-null float64\n",
      "EE            26304 non-null float64\n",
      "FI            26304 non-null float64\n",
      "FRE           978 non-null float64\n",
      "Hours         26307 non-null object\n",
      "Kr.sand       26304 non-null float64\n",
      "LT            26304 non-null float64\n",
      "LV            26304 non-null float64\n",
      "Molde         26304 non-null float64\n",
      "Oslo          26304 non-null float64\n",
      "SE1           26304 non-null float64\n",
      "SE2           26304 non-null float64\n",
      "SE3           26304 non-null float64\n",
      "SE4           26304 non-null float64\n",
      "SYS           26304 non-null float64\n",
      "Tr.heim       26304 non-null float64\n",
      "Tromsø        26304 non-null float64\n",
      "Unnamed: 0    26307 non-null object\n",
      "dtypes: float64(18), object(2)\n",
      "memory usage: 4.2+ MB\n",
      "<class 'pandas.core.frame.DataFrame'>\n",
      "Int64Index: 26307 entries, 0 to 8760\n",
      "Data columns (total 35 columns):\n",
      "Unnamed: 0                  26307 non-null object\n",
      "Hours                       26307 non-null object\n",
      "Turnover at system price    26304 non-null float64\n",
      "NO1 Buy                     26304 non-null float64\n",
      "NO1 Sell                    26304 non-null float64\n",
      "NO2 Buy                     26304 non-null float64\n",
      "NO2 Sell                    26304 non-null float64\n",
      "NO3 Buy                     26304 non-null float64\n",
      "NO3 Sell                    26304 non-null float64\n",
      "NO4 Buy                     26304 non-null float64\n",
      "NO4 Sell                    26304 non-null float64\n",
      "NO5 Buy                     26304 non-null float64\n",
      "NO5 Sell                    26304 non-null float64\n",
      "SE1 Buy                     26304 non-null float64\n",
      "SE1 Sell                    26304 non-null float64\n",
      "SE2 Buy                     26304 non-null float64\n",
      "SE2 Sell                    26304 non-null float64\n",
      "SE3 Buy                     26304 non-null float64\n",
      "SE3 Sell                    26304 non-null float64\n",
      "SE4 Buy                     26304 non-null float64\n",
      "SE4 Sell                    26304 non-null float64\n",
      "FI Buy                      26304 non-null float64\n",
      "FI Sell                     26304 non-null float64\n",
      "FRE Buy                     26304 non-null float64\n",
      "FRE Sell                    26304 non-null float64\n",
      "DK1 Buy                     26304 non-null float64\n",
      "DK1 Sell                    26304 non-null float64\n",
      "DK2 Buy                     26304 non-null float64\n",
      "DK2 Sell                    26304 non-null float64\n",
      "EE Buy                      26304 non-null float64\n",
      "EE Sell                     26304 non-null float64\n",
      "LV Buy                      26304 non-null float64\n",
      "LV Sell                     26304 non-null float64\n",
      "LT Buy                      26304 non-null float64\n",
      "LT Sell                     26304 non-null float64\n",
      "dtypes: float64(33), object(2)\n",
      "memory usage: 7.2+ MB\n",
      "None None\n"
     ]
    }
   ],
   "source": [
    "print(prices.info(), volumes.info())"
   ]
  },
  {
   "cell_type": "markdown",
   "metadata": {},
   "source": [
    "### NAB"
   ]
  },
  {
   "cell_type": "markdown",
   "metadata": {},
   "source": [
    "downloading the data from https://github.com/numenta/NAB/tree/master/data"
   ]
  },
  {
   "cell_type": "markdown",
   "metadata": {},
   "source": [
    "* machine_temperature_system_failure.csv\n",
    "* speed7578.csv\n",
    "* ambient_temperature_system_failure.csv\n",
    "* nyc_taxi.csv"
   ]
  },
  {
   "cell_type": "code",
   "execution_count": 12,
   "metadata": {
    "ExecuteTime": {
     "end_time": "2022-02-23T15:47:32.542450Z",
     "start_time": "2022-02-23T15:47:32.511313Z"
    }
   },
   "outputs": [],
   "source": [
    "# !curl -O https://raw.githubusercontent.com/numenta/NAB/master/data/realKnownCause/machine_temperature_system_failure.csv\n",
    "# !curl -O https://raw.githubusercontent.com/numenta/NAB/master/data/realTraffic/speed_7578.csv\n",
    "# !curl -O https://raw.githubusercontent.com/numenta/NAB/master/data/realKnownCause/ambient_temperature_system_failure.csv\n",
    "# !curl -O https://raw.githubusercontent.com/numenta/NAB/master/data/realKnownCause/nyc_taxi.csv\n",
    "# !curl -O https://raw.githubusercontent.com/numenta/NAB/master/labels/combined_windows.json"
   ]
  },
  {
   "cell_type": "code",
   "execution_count": 13,
   "metadata": {
    "ExecuteTime": {
     "end_time": "2022-02-23T15:47:35.177741Z",
     "start_time": "2022-02-23T15:47:35.149284Z"
    }
   },
   "outputs": [],
   "source": [
    "with open('combined_windows.json', 'r') as f:\n",
    "    labels = json.load(f)"
   ]
  },
  {
   "cell_type": "code",
   "execution_count": 14,
   "metadata": {
    "ExecuteTime": {
     "end_time": "2022-02-23T15:50:06.309694Z",
     "start_time": "2022-02-23T15:50:06.241699Z"
    }
   },
   "outputs": [],
   "source": [
    "mt = pd.read_csv('machine_temperature_system_failure.csv', parse_dates=[0])\n",
    "sp = pd.read_csv('speed_7578.csv', parse_dates=[0])\n",
    "at = pd.read_csv('ambient_temperature_system_failure.csv', parse_dates=[0])\n",
    "nt = pd.read_csv('nyc_taxi.csv', parse_dates=[0])"
   ]
  },
  {
   "cell_type": "code",
   "execution_count": 15,
   "metadata": {
    "ExecuteTime": {
     "end_time": "2022-02-23T15:50:06.761227Z",
     "start_time": "2022-02-23T15:50:06.737082Z"
    }
   },
   "outputs": [
    {
     "data": {
      "text/html": [
       "<div>\n",
       "<style scoped>\n",
       "    .dataframe tbody tr th:only-of-type {\n",
       "        vertical-align: middle;\n",
       "    }\n",
       "\n",
       "    .dataframe tbody tr th {\n",
       "        vertical-align: top;\n",
       "    }\n",
       "\n",
       "    .dataframe thead th {\n",
       "        text-align: right;\n",
       "    }\n",
       "</style>\n",
       "<table border=\"1\" class=\"dataframe\">\n",
       "  <thead>\n",
       "    <tr style=\"text-align: right;\">\n",
       "      <th></th>\n",
       "      <th>timestamp</th>\n",
       "      <th>value</th>\n",
       "    </tr>\n",
       "  </thead>\n",
       "  <tbody>\n",
       "    <tr>\n",
       "      <th>0</th>\n",
       "      <td>2013-12-02 21:15:00</td>\n",
       "      <td>73.967322</td>\n",
       "    </tr>\n",
       "    <tr>\n",
       "      <th>1</th>\n",
       "      <td>2013-12-02 21:20:00</td>\n",
       "      <td>74.935882</td>\n",
       "    </tr>\n",
       "    <tr>\n",
       "      <th>2</th>\n",
       "      <td>2013-12-02 21:25:00</td>\n",
       "      <td>76.124162</td>\n",
       "    </tr>\n",
       "    <tr>\n",
       "      <th>3</th>\n",
       "      <td>2013-12-02 21:30:00</td>\n",
       "      <td>78.140707</td>\n",
       "    </tr>\n",
       "    <tr>\n",
       "      <th>4</th>\n",
       "      <td>2013-12-02 21:35:00</td>\n",
       "      <td>79.329836</td>\n",
       "    </tr>\n",
       "  </tbody>\n",
       "</table>\n",
       "</div>"
      ],
      "text/plain": [
       "            timestamp      value\n",
       "0 2013-12-02 21:15:00  73.967322\n",
       "1 2013-12-02 21:20:00  74.935882\n",
       "2 2013-12-02 21:25:00  76.124162\n",
       "3 2013-12-02 21:30:00  78.140707\n",
       "4 2013-12-02 21:35:00  79.329836"
      ]
     },
     "execution_count": 15,
     "metadata": {},
     "output_type": "execute_result"
    }
   ],
   "source": [
    "mt.head()"
   ]
  },
  {
   "cell_type": "code",
   "execution_count": 16,
   "metadata": {
    "ExecuteTime": {
     "end_time": "2022-02-23T15:50:06.938103Z",
     "start_time": "2022-02-23T15:50:06.913642Z"
    }
   },
   "outputs": [
    {
     "data": {
      "text/html": [
       "<div>\n",
       "<style scoped>\n",
       "    .dataframe tbody tr th:only-of-type {\n",
       "        vertical-align: middle;\n",
       "    }\n",
       "\n",
       "    .dataframe tbody tr th {\n",
       "        vertical-align: top;\n",
       "    }\n",
       "\n",
       "    .dataframe thead th {\n",
       "        text-align: right;\n",
       "    }\n",
       "</style>\n",
       "<table border=\"1\" class=\"dataframe\">\n",
       "  <thead>\n",
       "    <tr style=\"text-align: right;\">\n",
       "      <th></th>\n",
       "      <th>timestamp</th>\n",
       "      <th>value</th>\n",
       "    </tr>\n",
       "  </thead>\n",
       "  <tbody>\n",
       "    <tr>\n",
       "      <th>0</th>\n",
       "      <td>2015-09-08 11:39:00</td>\n",
       "      <td>73</td>\n",
       "    </tr>\n",
       "    <tr>\n",
       "      <th>1</th>\n",
       "      <td>2015-09-08 11:44:00</td>\n",
       "      <td>62</td>\n",
       "    </tr>\n",
       "    <tr>\n",
       "      <th>2</th>\n",
       "      <td>2015-09-08 11:59:00</td>\n",
       "      <td>66</td>\n",
       "    </tr>\n",
       "    <tr>\n",
       "      <th>3</th>\n",
       "      <td>2015-09-08 12:19:00</td>\n",
       "      <td>69</td>\n",
       "    </tr>\n",
       "    <tr>\n",
       "      <th>4</th>\n",
       "      <td>2015-09-08 12:24:00</td>\n",
       "      <td>65</td>\n",
       "    </tr>\n",
       "  </tbody>\n",
       "</table>\n",
       "</div>"
      ],
      "text/plain": [
       "            timestamp  value\n",
       "0 2015-09-08 11:39:00     73\n",
       "1 2015-09-08 11:44:00     62\n",
       "2 2015-09-08 11:59:00     66\n",
       "3 2015-09-08 12:19:00     69\n",
       "4 2015-09-08 12:24:00     65"
      ]
     },
     "execution_count": 16,
     "metadata": {},
     "output_type": "execute_result"
    }
   ],
   "source": [
    "sp.head()"
   ]
  },
  {
   "cell_type": "code",
   "execution_count": 17,
   "metadata": {
    "ExecuteTime": {
     "end_time": "2022-02-23T15:50:07.099148Z",
     "start_time": "2022-02-23T15:50:07.074787Z"
    }
   },
   "outputs": [
    {
     "data": {
      "text/html": [
       "<div>\n",
       "<style scoped>\n",
       "    .dataframe tbody tr th:only-of-type {\n",
       "        vertical-align: middle;\n",
       "    }\n",
       "\n",
       "    .dataframe tbody tr th {\n",
       "        vertical-align: top;\n",
       "    }\n",
       "\n",
       "    .dataframe thead th {\n",
       "        text-align: right;\n",
       "    }\n",
       "</style>\n",
       "<table border=\"1\" class=\"dataframe\">\n",
       "  <thead>\n",
       "    <tr style=\"text-align: right;\">\n",
       "      <th></th>\n",
       "      <th>timestamp</th>\n",
       "      <th>value</th>\n",
       "    </tr>\n",
       "  </thead>\n",
       "  <tbody>\n",
       "    <tr>\n",
       "      <th>0</th>\n",
       "      <td>2013-07-04 00:00:00</td>\n",
       "      <td>69.880835</td>\n",
       "    </tr>\n",
       "    <tr>\n",
       "      <th>1</th>\n",
       "      <td>2013-07-04 01:00:00</td>\n",
       "      <td>71.220227</td>\n",
       "    </tr>\n",
       "    <tr>\n",
       "      <th>2</th>\n",
       "      <td>2013-07-04 02:00:00</td>\n",
       "      <td>70.877805</td>\n",
       "    </tr>\n",
       "    <tr>\n",
       "      <th>3</th>\n",
       "      <td>2013-07-04 03:00:00</td>\n",
       "      <td>68.959400</td>\n",
       "    </tr>\n",
       "    <tr>\n",
       "      <th>4</th>\n",
       "      <td>2013-07-04 04:00:00</td>\n",
       "      <td>69.283551</td>\n",
       "    </tr>\n",
       "  </tbody>\n",
       "</table>\n",
       "</div>"
      ],
      "text/plain": [
       "            timestamp      value\n",
       "0 2013-07-04 00:00:00  69.880835\n",
       "1 2013-07-04 01:00:00  71.220227\n",
       "2 2013-07-04 02:00:00  70.877805\n",
       "3 2013-07-04 03:00:00  68.959400\n",
       "4 2013-07-04 04:00:00  69.283551"
      ]
     },
     "execution_count": 17,
     "metadata": {},
     "output_type": "execute_result"
    }
   ],
   "source": [
    "at.head()"
   ]
  },
  {
   "cell_type": "code",
   "execution_count": 18,
   "metadata": {
    "ExecuteTime": {
     "end_time": "2022-02-23T15:50:07.235042Z",
     "start_time": "2022-02-23T15:50:07.211543Z"
    }
   },
   "outputs": [
    {
     "data": {
      "text/html": [
       "<div>\n",
       "<style scoped>\n",
       "    .dataframe tbody tr th:only-of-type {\n",
       "        vertical-align: middle;\n",
       "    }\n",
       "\n",
       "    .dataframe tbody tr th {\n",
       "        vertical-align: top;\n",
       "    }\n",
       "\n",
       "    .dataframe thead th {\n",
       "        text-align: right;\n",
       "    }\n",
       "</style>\n",
       "<table border=\"1\" class=\"dataframe\">\n",
       "  <thead>\n",
       "    <tr style=\"text-align: right;\">\n",
       "      <th></th>\n",
       "      <th>timestamp</th>\n",
       "      <th>value</th>\n",
       "    </tr>\n",
       "  </thead>\n",
       "  <tbody>\n",
       "    <tr>\n",
       "      <th>0</th>\n",
       "      <td>2014-07-01 00:00:00</td>\n",
       "      <td>10844</td>\n",
       "    </tr>\n",
       "    <tr>\n",
       "      <th>1</th>\n",
       "      <td>2014-07-01 00:30:00</td>\n",
       "      <td>8127</td>\n",
       "    </tr>\n",
       "    <tr>\n",
       "      <th>2</th>\n",
       "      <td>2014-07-01 01:00:00</td>\n",
       "      <td>6210</td>\n",
       "    </tr>\n",
       "    <tr>\n",
       "      <th>3</th>\n",
       "      <td>2014-07-01 01:30:00</td>\n",
       "      <td>4656</td>\n",
       "    </tr>\n",
       "    <tr>\n",
       "      <th>4</th>\n",
       "      <td>2014-07-01 02:00:00</td>\n",
       "      <td>3820</td>\n",
       "    </tr>\n",
       "  </tbody>\n",
       "</table>\n",
       "</div>"
      ],
      "text/plain": [
       "            timestamp  value\n",
       "0 2014-07-01 00:00:00  10844\n",
       "1 2014-07-01 00:30:00   8127\n",
       "2 2014-07-01 01:00:00   6210\n",
       "3 2014-07-01 01:30:00   4656\n",
       "4 2014-07-01 02:00:00   3820"
      ]
     },
     "execution_count": 18,
     "metadata": {},
     "output_type": "execute_result"
    }
   ],
   "source": [
    "nt.head()"
   ]
  },
  {
   "cell_type": "code",
   "execution_count": 45,
   "metadata": {},
   "outputs": [
    {
     "data": {
      "text/plain": [
       "[Text(0.5, 1.0, 'Dataset: nyc taxi')]"
      ]
     },
     "execution_count": 45,
     "metadata": {},
     "output_type": "execute_result"
    },
    {
     "data": {
      "image/png": "[encoded data removed]",
      "text/plain": [
       "<Figure size 1080x720 with 4 Axes>"
      ]
     },
     "metadata": {},
     "output_type": "display_data"
    }
   ],
   "source": [
    "import matplotlib.pyplot as plt\n",
    "import seaborn as sns\n",
    "\n",
    "#set seaborn plotting aesthetics as default\n",
    "sns.set()\n",
    "\n",
    "#define plotting region (2 rows, 2 columns)\n",
    "fig, axes = plt.subplots(2, 2, figsize=(15,10))\n",
    "\n",
    "#create boxplot in each subplot\n",
    "sns.distplot(sp['value'], ax=axes[0,0]).set(title='Dataset: speed7578')\n",
    "sns.distplot(mt['value'], ax=axes[0,1]).set(title='Dataset: machine temperature system failure')\n",
    "sns.distplot(at['value'], ax=axes[1,0]).set(title='Dataset: ambient temperature system failure')\n",
    "sns.distplot(nt['value'], ax=axes[1,1]).set(title='Dataset: nyc taxi')"
   ]
  },
  {
   "cell_type": "markdown",
   "metadata": {},
   "source": [
    "> map labels"
   ]
  },
  {
   "cell_type": "code",
   "execution_count": 19,
   "metadata": {
    "ExecuteTime": {
     "end_time": "2022-02-23T15:58:41.979712Z",
     "start_time": "2022-02-23T15:58:41.952803Z"
    }
   },
   "outputs": [],
   "source": [
    "obj2name = [\n",
    "    (mt, 'realKnownCause/machine_temperature_system_failure.csv'),\n",
    "    (sp, 'realTraffic/speed_7578.csv'),\n",
    "    (at, 'realKnownCause/ambient_temperature_system_failure.csv'),\n",
    "    (nt, 'realKnownCause/nyc_taxi.csv'),\n",
    "]"
   ]
  },
  {
   "cell_type": "code",
   "execution_count": 20,
   "metadata": {
    "ExecuteTime": {
     "end_time": "2022-02-23T15:59:05.106402Z",
     "start_time": "2022-02-23T15:59:05.065214Z"
    }
   },
   "outputs": [],
   "source": [
    "for ds_obj, dataset in obj2name:\n",
    "    ds_obj['anomaly'] = 0\n",
    "\n",
    "    for w in labels[dataset]:\n",
    "        anomalies_mask = (ds_obj['timestamp'] >= w[0]) & (ds_obj['timestamp'] <= w[1])\n",
    "        ds_obj.loc[anomalies_mask, 'anomaly'] = 1"
   ]
  },
  {
   "cell_type": "code",
   "execution_count": 21,
   "metadata": {
    "ExecuteTime": {
     "end_time": "2022-02-23T16:00:08.887374Z",
     "start_time": "2022-02-23T16:00:06.668658Z"
    }
   },
   "outputs": [
    {
     "name": "stderr",
     "output_type": "stream",
     "text": [
      "/Users/macbook/anaconda3/lib/python3.7/site-packages/pandas/plotting/_matplotlib/converter.py:103: FutureWarning: Using an implicitly registered datetime converter for a matplotlib plotting method. The converter was registered by pandas on import. Future versions of pandas will require you to explicitly register matplotlib converters.\n",
      "\n",
      "To register the converters:\n",
      "\t>>> from pandas.plotting import register_matplotlib_converters\n",
      "\t>>> register_matplotlib_converters()\n",
      "  warnings.warn(msg, FutureWarning)\n"
     ]
    },
    {
     "data": {
      "image/png": "[encoded data removed]",
      "text/plain": [
       "<Figure size 864x432 with 1 Axes>"
      ]
     },
     "metadata": {
      "needs_background": "light"
     },
     "output_type": "display_data"
    },
    {
     "data": {
      "image/png": "[encoded data removed]",
      "text/plain": [
       "<Figure size 864x432 with 1 Axes>"
      ]
     },
     "metadata": {
      "needs_background": "light"
     },
     "output_type": "display_data"
    },
    {
     "data": {
      "image/png": "[encoded data removed]",
      "text/plain": [
       "<Figure size 864x432 with 1 Axes>"
      ]
     },
     "metadata": {
      "needs_background": "light"
     },
     "output_type": "display_data"
    },
    {
     "data": {
      "image/png": "[encoded data removed]",
      "text/plain": [
       "<Figure size 864x432 with 1 Axes>"
      ]
     },
     "metadata": {
      "needs_background": "light"
     },
     "output_type": "display_data"
    }
   ],
   "source": [
    "for ds_obj, dataset in obj2name:\n",
    "    fig,axs=plt.subplots(figsize=(12, 6))\n",
    "    sns.lineplot(x='timestamp', y='value', data=ds_obj, alpha=0.4)\n",
    "    sns.scatterplot(x='timestamp', y='value', data=ds_obj[ds_obj['anomaly']==1],\n",
    "                    color='red', label='anomaly', alpha=0.8, s=6)\n",
    "#     plt.title('Machine temperature system failure anomalies');\n",
    "    plt.title(dataset.split('/')[-1])\n",
    "    plt.show()"
   ]
  },
  {
   "cell_type": "markdown",
   "metadata": {},
   "source": [
    "## algorithms"
   ]
  },
  {
   "cell_type": "markdown",
   "metadata": {},
   "source": [
    "need to repro\n",
    "* Table 3 for elspot\n",
    "* Table 4 and Table 5"
   ]
  },
  {
   "cell_type": "markdown",
   "metadata": {},
   "source": [
    "### table 3"
   ]
  },
  {
   "cell_type": "code",
   "execution_count": 50,
   "metadata": {},
   "outputs": [
    {
     "name": "stdout",
     "output_type": "stream",
     "text": [
      "Collecting scikit-garden\n",
      "\u001b[?25l  Downloading https://files.pythonhosted.org/packages/63/0f/850592f6e8619d42086cdcc6a1731a4254f74db09878a155ab3d4cdc55ef/scikit-garden-0.1.3.tar.gz (317kB)\n",
      "\u001b[K     |████████████████████████████████| 317kB 1.3MB/s eta 0:00:01\n",
      "\u001b[?25hRequirement already satisfied: numpy in /Users/macbook/anaconda3/lib/python3.7/site-packages (from scikit-garden) (1.19.4)\n",
      "Requirement already satisfied: scipy in /Users/macbook/anaconda3/lib/python3.7/site-packages (from scikit-garden) (1.3.0)\n",
      "Requirement already satisfied: scikit-learn>=0.18 in /Users/macbook/anaconda3/lib/python3.7/site-packages (from scikit-garden) (0.23.2)\n",
      "Requirement already satisfied: cython in /Users/macbook/anaconda3/lib/python3.7/site-packages (from scikit-garden) (0.29.12)\n",
      "Requirement already satisfied: joblib>=0.11 in /Users/macbook/anaconda3/lib/python3.7/site-packages (from scikit-learn>=0.18->scikit-garden) (0.13.2)\n",
      "Requirement already satisfied: threadpoolctl>=2.0.0 in /Users/macbook/anaconda3/lib/python3.7/site-packages (from scikit-learn>=0.18->scikit-garden) (2.1.0)\n",
      "Building wheels for collected packages: scikit-garden\n",
      "  Building wheel for scikit-garden (setup.py) ... \u001b[?25ldone\n",
      "\u001b[?25h  Stored in directory: /Users/macbook/Library/Caches/pip/wheels/d0/ef/71/3a032ba9a2b70690c9f9ec2e383afee6610f509af312ff2cf3\n",
      "Successfully built scikit-garden\n",
      "Installing collected packages: scikit-garden\n",
      "Successfully installed scikit-garden-0.1.3\n"
     ]
    }
   ],
   "source": [
    "!pip install scikit-garden"
   ]
  },
  {
   "cell_type": "code",
   "execution_count": 51,
   "metadata": {},
   "outputs": [
    {
     "name": "stderr",
     "output_type": "stream",
     "text": [
      "/Users/macbook/anaconda3/lib/python3.7/site-packages/sklearn/utils/deprecation.py:143: FutureWarning: The sklearn.ensemble.forest module is  deprecated in version 0.22 and will be removed in version 0.24. The corresponding classes / functions should instead be imported from sklearn.ensemble. Anything that cannot be imported from sklearn.ensemble is now part of the private API.\n",
      "  warnings.warn(message, FutureWarning)\n"
     ]
    },
    {
     "ename": "ImportError",
     "evalue": "cannot import name 'six' from 'sklearn.externals' (/Users/macbook/anaconda3/lib/python3.7/site-packages/sklearn/externals/__init__.py)",
     "output_type": "error",
     "traceback": [
      "\u001b[0;31m---------------------------------------------------------------------------\u001b[0m",
      "\u001b[0;31mImportError\u001b[0m                               Traceback (most recent call last)",
      "\u001b[0;32m<ipython-input-51-2b717f353e10>\u001b[0m in \u001b[0;36m<module>\u001b[0;34m\u001b[0m\n\u001b[1;32m      2\u001b[0m \u001b[0;32mfrom\u001b[0m \u001b[0msklearn\u001b[0m\u001b[0;34m.\u001b[0m\u001b[0mmetrics\u001b[0m \u001b[0;32mimport\u001b[0m \u001b[0mmean_squared_error\u001b[0m\u001b[0;34m,\u001b[0m \u001b[0mmean_absolute_error\u001b[0m\u001b[0;34m,\u001b[0m \u001b[0mr2_score\u001b[0m\u001b[0;34m\u001b[0m\u001b[0;34m\u001b[0m\u001b[0m\n\u001b[1;32m      3\u001b[0m \u001b[0;34m\u001b[0m\u001b[0m\n\u001b[0;32m----> 4\u001b[0;31m \u001b[0;32mfrom\u001b[0m \u001b[0mskgarden\u001b[0m \u001b[0;32mimport\u001b[0m \u001b[0mRandomForestQuantileRegressor\u001b[0m\u001b[0;34m\u001b[0m\u001b[0;34m\u001b[0m\u001b[0m\n\u001b[0m\u001b[1;32m      5\u001b[0m \u001b[0;32mfrom\u001b[0m \u001b[0msklearn\u001b[0m\u001b[0;34m.\u001b[0m\u001b[0mensemble\u001b[0m \u001b[0;32mimport\u001b[0m \u001b[0mGradientBoostingRegressor\u001b[0m\u001b[0;34m\u001b[0m\u001b[0;34m\u001b[0m\u001b[0m\n\u001b[1;32m      6\u001b[0m \u001b[0;32mfrom\u001b[0m \u001b[0msklearn\u001b[0m\u001b[0;34m.\u001b[0m\u001b[0mensemble\u001b[0m \u001b[0;32mimport\u001b[0m \u001b[0mExtraTreesRegressor\u001b[0m\u001b[0;34m\u001b[0m\u001b[0;34m\u001b[0m\u001b[0m\n",
      "\u001b[0;32m~/anaconda3/lib/python3.7/site-packages/skgarden/__init__.py\u001b[0m in \u001b[0;36m<module>\u001b[0;34m\u001b[0m\n\u001b[1;32m      1\u001b[0m \u001b[0;32mfrom\u001b[0m \u001b[0;34m.\u001b[0m\u001b[0mforest\u001b[0m \u001b[0;32mimport\u001b[0m \u001b[0mRandomForestRegressor\u001b[0m\u001b[0;34m\u001b[0m\u001b[0;34m\u001b[0m\u001b[0m\n\u001b[1;32m      2\u001b[0m \u001b[0;32mfrom\u001b[0m \u001b[0;34m.\u001b[0m\u001b[0mforest\u001b[0m \u001b[0;32mimport\u001b[0m \u001b[0mExtraTreesRegressor\u001b[0m\u001b[0;34m\u001b[0m\u001b[0;34m\u001b[0m\u001b[0m\n\u001b[0;32m----> 3\u001b[0;31m \u001b[0;32mfrom\u001b[0m \u001b[0;34m.\u001b[0m\u001b[0mmondrian\u001b[0m \u001b[0;32mimport\u001b[0m \u001b[0mMondrianForestClassifier\u001b[0m\u001b[0;34m\u001b[0m\u001b[0;34m\u001b[0m\u001b[0m\n\u001b[0m\u001b[1;32m      4\u001b[0m \u001b[0;32mfrom\u001b[0m \u001b[0;34m.\u001b[0m\u001b[0mmondrian\u001b[0m \u001b[0;32mimport\u001b[0m \u001b[0mMondrianForestRegressor\u001b[0m\u001b[0;34m\u001b[0m\u001b[0;34m\u001b[0m\u001b[0m\n\u001b[1;32m      5\u001b[0m \u001b[0;32mfrom\u001b[0m \u001b[0;34m.\u001b[0m\u001b[0mmondrian\u001b[0m \u001b[0;32mimport\u001b[0m \u001b[0mMondrianTreeClassifier\u001b[0m\u001b[0;34m\u001b[0m\u001b[0;34m\u001b[0m\u001b[0m\n",
      "\u001b[0;32m~/anaconda3/lib/python3.7/site-packages/skgarden/mondrian/__init__.py\u001b[0m in \u001b[0;36m<module>\u001b[0;34m\u001b[0m\n\u001b[0;32m----> 1\u001b[0;31m \u001b[0;32mfrom\u001b[0m \u001b[0;34m.\u001b[0m\u001b[0mensemble\u001b[0m \u001b[0;32mimport\u001b[0m \u001b[0mMondrianForestClassifier\u001b[0m\u001b[0;34m\u001b[0m\u001b[0;34m\u001b[0m\u001b[0m\n\u001b[0m\u001b[1;32m      2\u001b[0m \u001b[0;32mfrom\u001b[0m \u001b[0;34m.\u001b[0m\u001b[0mensemble\u001b[0m \u001b[0;32mimport\u001b[0m \u001b[0mMondrianForestRegressor\u001b[0m\u001b[0;34m\u001b[0m\u001b[0;34m\u001b[0m\u001b[0m\n\u001b[1;32m      3\u001b[0m \u001b[0;32mfrom\u001b[0m \u001b[0;34m.\u001b[0m\u001b[0mtree\u001b[0m \u001b[0;32mimport\u001b[0m \u001b[0mMondrianTreeClassifier\u001b[0m\u001b[0;34m\u001b[0m\u001b[0;34m\u001b[0m\u001b[0m\n\u001b[1;32m      4\u001b[0m \u001b[0;32mfrom\u001b[0m \u001b[0;34m.\u001b[0m\u001b[0mtree\u001b[0m \u001b[0;32mimport\u001b[0m \u001b[0mMondrianTreeRegressor\u001b[0m\u001b[0;34m\u001b[0m\u001b[0;34m\u001b[0m\u001b[0m\n\u001b[1;32m      5\u001b[0m \u001b[0;34m\u001b[0m\u001b[0m\n",
      "\u001b[0;32m~/anaconda3/lib/python3.7/site-packages/skgarden/mondrian/ensemble/__init__.py\u001b[0m in \u001b[0;36m<module>\u001b[0;34m\u001b[0m\n\u001b[0;32m----> 1\u001b[0;31m \u001b[0;32mfrom\u001b[0m \u001b[0;34m.\u001b[0m\u001b[0mforest\u001b[0m \u001b[0;32mimport\u001b[0m \u001b[0mMondrianForestClassifier\u001b[0m\u001b[0;34m\u001b[0m\u001b[0;34m\u001b[0m\u001b[0m\n\u001b[0m\u001b[1;32m      2\u001b[0m \u001b[0;32mfrom\u001b[0m \u001b[0;34m.\u001b[0m\u001b[0mforest\u001b[0m \u001b[0;32mimport\u001b[0m \u001b[0mMondrianForestRegressor\u001b[0m\u001b[0;34m\u001b[0m\u001b[0;34m\u001b[0m\u001b[0m\n\u001b[1;32m      3\u001b[0m \u001b[0;34m\u001b[0m\u001b[0m\n\u001b[1;32m      4\u001b[0m \u001b[0m__all__\u001b[0m \u001b[0;34m=\u001b[0m \u001b[0;34m[\u001b[0m\u001b[0;34m\"MondrianTreeClassifier\"\u001b[0m\u001b[0;34m,\u001b[0m \u001b[0;34m\"MondrianForestRegressor\"\u001b[0m\u001b[0;34m]\u001b[0m\u001b[0;34m\u001b[0m\u001b[0;34m\u001b[0m\u001b[0m\n",
      "\u001b[0;32m~/anaconda3/lib/python3.7/site-packages/skgarden/mondrian/ensemble/forest.py\u001b[0m in \u001b[0;36m<module>\u001b[0;34m\u001b[0m\n\u001b[1;32m      7\u001b[0m \u001b[0;32mfrom\u001b[0m \u001b[0msklearn\u001b[0m\u001b[0;34m.\u001b[0m\u001b[0mutils\u001b[0m\u001b[0;34m.\u001b[0m\u001b[0mvalidation\u001b[0m \u001b[0;32mimport\u001b[0m \u001b[0mcheck_X_y\u001b[0m\u001b[0;34m\u001b[0m\u001b[0;34m\u001b[0m\u001b[0m\n\u001b[1;32m      8\u001b[0m \u001b[0;34m\u001b[0m\u001b[0m\n\u001b[0;32m----> 9\u001b[0;31m \u001b[0;32mfrom\u001b[0m \u001b[0;34m.\u001b[0m\u001b[0;34m.\u001b[0m\u001b[0mtree\u001b[0m \u001b[0;32mimport\u001b[0m \u001b[0mMondrianTreeClassifier\u001b[0m\u001b[0;34m\u001b[0m\u001b[0;34m\u001b[0m\u001b[0m\n\u001b[0m\u001b[1;32m     10\u001b[0m \u001b[0;32mfrom\u001b[0m \u001b[0;34m.\u001b[0m\u001b[0;34m.\u001b[0m\u001b[0mtree\u001b[0m \u001b[0;32mimport\u001b[0m \u001b[0mMondrianTreeRegressor\u001b[0m\u001b[0;34m\u001b[0m\u001b[0;34m\u001b[0m\u001b[0m\n\u001b[1;32m     11\u001b[0m \u001b[0;34m\u001b[0m\u001b[0m\n",
      "\u001b[0;32m~/anaconda3/lib/python3.7/site-packages/skgarden/mondrian/tree/__init__.py\u001b[0m in \u001b[0;36m<module>\u001b[0;34m\u001b[0m\n\u001b[1;32m      4\u001b[0m \"\"\"\n\u001b[1;32m      5\u001b[0m \u001b[0;34m\u001b[0m\u001b[0m\n\u001b[0;32m----> 6\u001b[0;31m \u001b[0;32mfrom\u001b[0m \u001b[0;34m.\u001b[0m\u001b[0mtree\u001b[0m \u001b[0;32mimport\u001b[0m \u001b[0mMondrianTreeRegressor\u001b[0m\u001b[0;34m\u001b[0m\u001b[0;34m\u001b[0m\u001b[0m\n\u001b[0m\u001b[1;32m      7\u001b[0m \u001b[0;32mfrom\u001b[0m \u001b[0;34m.\u001b[0m\u001b[0mtree\u001b[0m \u001b[0;32mimport\u001b[0m \u001b[0mMondrianTreeClassifier\u001b[0m\u001b[0;34m\u001b[0m\u001b[0;34m\u001b[0m\u001b[0m\n\u001b[1;32m      8\u001b[0m \u001b[0;34m\u001b[0m\u001b[0m\n",
      "\u001b[0;32m~/anaconda3/lib/python3.7/site-packages/skgarden/mondrian/tree/tree.py\u001b[0m in \u001b[0;36m<module>\u001b[0;34m\u001b[0m\n\u001b[1;32m     29\u001b[0m \u001b[0;32mfrom\u001b[0m \u001b[0msklearn\u001b[0m\u001b[0;34m.\u001b[0m\u001b[0mbase\u001b[0m \u001b[0;32mimport\u001b[0m \u001b[0mClassifierMixin\u001b[0m\u001b[0;34m\u001b[0m\u001b[0;34m\u001b[0m\u001b[0m\n\u001b[1;32m     30\u001b[0m \u001b[0;32mfrom\u001b[0m \u001b[0msklearn\u001b[0m\u001b[0;34m.\u001b[0m\u001b[0mbase\u001b[0m \u001b[0;32mimport\u001b[0m \u001b[0mRegressorMixin\u001b[0m\u001b[0;34m\u001b[0m\u001b[0;34m\u001b[0m\u001b[0m\n\u001b[0;32m---> 31\u001b[0;31m \u001b[0;32mfrom\u001b[0m \u001b[0msklearn\u001b[0m\u001b[0;34m.\u001b[0m\u001b[0mexternals\u001b[0m \u001b[0;32mimport\u001b[0m \u001b[0msix\u001b[0m\u001b[0;34m\u001b[0m\u001b[0;34m\u001b[0m\u001b[0m\n\u001b[0m\u001b[1;32m     32\u001b[0m \u001b[0;32mfrom\u001b[0m \u001b[0msklearn\u001b[0m\u001b[0;34m.\u001b[0m\u001b[0mutils\u001b[0m \u001b[0;32mimport\u001b[0m \u001b[0mcheck_random_state\u001b[0m\u001b[0;34m\u001b[0m\u001b[0;34m\u001b[0m\u001b[0m\n\u001b[1;32m     33\u001b[0m \u001b[0;32mfrom\u001b[0m \u001b[0msklearn\u001b[0m\u001b[0;34m.\u001b[0m\u001b[0mutils\u001b[0m \u001b[0;32mimport\u001b[0m \u001b[0mcompute_sample_weight\u001b[0m\u001b[0;34m\u001b[0m\u001b[0;34m\u001b[0m\u001b[0m\n",
      "\u001b[0;31mImportError\u001b[0m: cannot import name 'six' from 'sklearn.externals' (/Users/macbook/anaconda3/lib/python3.7/site-packages/sklearn/externals/__init__.py)"
     ]
    }
   ],
   "source": [
    "from sklearn.model_selection import train_test_split\n",
    "from sklearn.metrics import mean_squared_error, mean_absolute_error, r2_score\n",
    "\n",
    "from skgarden import RandomForestQuantileRegressor\n",
    "from sklearn.ensemble import GradientBoostingRegressor\n",
    "from sklearn.ensemble import ExtraTreesRegressor"
   ]
  },
  {
   "cell_type": "code",
   "execution_count": 52,
   "metadata": {},
   "outputs": [
    {
     "data": {
      "text/html": [
       "<div>\n",
       "<style scoped>\n",
       "    .dataframe tbody tr th:only-of-type {\n",
       "        vertical-align: middle;\n",
       "    }\n",
       "\n",
       "    .dataframe tbody tr th {\n",
       "        vertical-align: top;\n",
       "    }\n",
       "\n",
       "    .dataframe thead th {\n",
       "        text-align: right;\n",
       "    }\n",
       "</style>\n",
       "<table border=\"1\" class=\"dataframe\">\n",
       "  <thead>\n",
       "    <tr style=\"text-align: right;\">\n",
       "      <th></th>\n",
       "      <th>Bergen</th>\n",
       "      <th>DK1</th>\n",
       "      <th>DK2</th>\n",
       "      <th>EE</th>\n",
       "      <th>FI</th>\n",
       "      <th>FRE</th>\n",
       "      <th>Hours</th>\n",
       "      <th>Kr.sand</th>\n",
       "      <th>LT</th>\n",
       "      <th>LV</th>\n",
       "      <th>Molde</th>\n",
       "      <th>Oslo</th>\n",
       "      <th>SE1</th>\n",
       "      <th>SE2</th>\n",
       "      <th>SE3</th>\n",
       "      <th>SE4</th>\n",
       "      <th>SYS</th>\n",
       "      <th>Tr.heim</th>\n",
       "      <th>Tromsø</th>\n",
       "      <th>Unnamed: 0</th>\n",
       "    </tr>\n",
       "  </thead>\n",
       "  <tbody>\n",
       "    <tr>\n",
       "      <th>0</th>\n",
       "      <td>16.39</td>\n",
       "      <td>16.39</td>\n",
       "      <td>16.39</td>\n",
       "      <td>16.39</td>\n",
       "      <td>16.39</td>\n",
       "      <td>NaN</td>\n",
       "      <td>00 - 01</td>\n",
       "      <td>16.39</td>\n",
       "      <td>28.11</td>\n",
       "      <td>28.11</td>\n",
       "      <td>16.39</td>\n",
       "      <td>16.39</td>\n",
       "      <td>16.39</td>\n",
       "      <td>16.39</td>\n",
       "      <td>16.39</td>\n",
       "      <td>16.39</td>\n",
       "      <td>16.39</td>\n",
       "      <td>16.39</td>\n",
       "      <td>16.39</td>\n",
       "      <td>01-01-2016</td>\n",
       "    </tr>\n",
       "    <tr>\n",
       "      <th>1</th>\n",
       "      <td>16.04</td>\n",
       "      <td>16.04</td>\n",
       "      <td>16.04</td>\n",
       "      <td>16.04</td>\n",
       "      <td>16.04</td>\n",
       "      <td>NaN</td>\n",
       "      <td>01 - 02</td>\n",
       "      <td>16.04</td>\n",
       "      <td>16.04</td>\n",
       "      <td>16.04</td>\n",
       "      <td>16.04</td>\n",
       "      <td>16.04</td>\n",
       "      <td>16.04</td>\n",
       "      <td>16.04</td>\n",
       "      <td>16.04</td>\n",
       "      <td>16.04</td>\n",
       "      <td>16.04</td>\n",
       "      <td>16.04</td>\n",
       "      <td>16.04</td>\n",
       "      <td>01-01-2016</td>\n",
       "    </tr>\n",
       "    <tr>\n",
       "      <th>2</th>\n",
       "      <td>15.74</td>\n",
       "      <td>15.74</td>\n",
       "      <td>15.74</td>\n",
       "      <td>15.74</td>\n",
       "      <td>15.74</td>\n",
       "      <td>NaN</td>\n",
       "      <td>02 - 03</td>\n",
       "      <td>15.74</td>\n",
       "      <td>15.74</td>\n",
       "      <td>15.74</td>\n",
       "      <td>15.74</td>\n",
       "      <td>15.74</td>\n",
       "      <td>15.74</td>\n",
       "      <td>15.74</td>\n",
       "      <td>15.74</td>\n",
       "      <td>15.74</td>\n",
       "      <td>15.74</td>\n",
       "      <td>15.74</td>\n",
       "      <td>15.74</td>\n",
       "      <td>01-01-2016</td>\n",
       "    </tr>\n",
       "    <tr>\n",
       "      <th>3</th>\n",
       "      <td>15.57</td>\n",
       "      <td>15.57</td>\n",
       "      <td>15.57</td>\n",
       "      <td>15.57</td>\n",
       "      <td>15.57</td>\n",
       "      <td>NaN</td>\n",
       "      <td>03 - 04</td>\n",
       "      <td>15.57</td>\n",
       "      <td>15.57</td>\n",
       "      <td>15.57</td>\n",
       "      <td>15.57</td>\n",
       "      <td>15.57</td>\n",
       "      <td>15.57</td>\n",
       "      <td>15.57</td>\n",
       "      <td>15.57</td>\n",
       "      <td>15.57</td>\n",
       "      <td>15.57</td>\n",
       "      <td>15.57</td>\n",
       "      <td>15.57</td>\n",
       "      <td>01-01-2016</td>\n",
       "    </tr>\n",
       "    <tr>\n",
       "      <th>4</th>\n",
       "      <td>15.47</td>\n",
       "      <td>15.47</td>\n",
       "      <td>15.47</td>\n",
       "      <td>15.47</td>\n",
       "      <td>15.47</td>\n",
       "      <td>NaN</td>\n",
       "      <td>04 - 05</td>\n",
       "      <td>15.47</td>\n",
       "      <td>15.47</td>\n",
       "      <td>15.47</td>\n",
       "      <td>15.47</td>\n",
       "      <td>15.47</td>\n",
       "      <td>15.47</td>\n",
       "      <td>15.47</td>\n",
       "      <td>15.47</td>\n",
       "      <td>15.47</td>\n",
       "      <td>15.47</td>\n",
       "      <td>15.47</td>\n",
       "      <td>15.47</td>\n",
       "      <td>01-01-2016</td>\n",
       "    </tr>\n",
       "    <tr>\n",
       "      <th>...</th>\n",
       "      <td>...</td>\n",
       "      <td>...</td>\n",
       "      <td>...</td>\n",
       "      <td>...</td>\n",
       "      <td>...</td>\n",
       "      <td>...</td>\n",
       "      <td>...</td>\n",
       "      <td>...</td>\n",
       "      <td>...</td>\n",
       "      <td>...</td>\n",
       "      <td>...</td>\n",
       "      <td>...</td>\n",
       "      <td>...</td>\n",
       "      <td>...</td>\n",
       "      <td>...</td>\n",
       "      <td>...</td>\n",
       "      <td>...</td>\n",
       "      <td>...</td>\n",
       "      <td>...</td>\n",
       "      <td>...</td>\n",
       "    </tr>\n",
       "    <tr>\n",
       "      <th>8756</th>\n",
       "      <td>50.66</td>\n",
       "      <td>47.51</td>\n",
       "      <td>47.51</td>\n",
       "      <td>47.51</td>\n",
       "      <td>47.51</td>\n",
       "      <td>NaN</td>\n",
       "      <td>19 - 20</td>\n",
       "      <td>50.66</td>\n",
       "      <td>47.51</td>\n",
       "      <td>47.51</td>\n",
       "      <td>47.51</td>\n",
       "      <td>50.66</td>\n",
       "      <td>47.51</td>\n",
       "      <td>47.51</td>\n",
       "      <td>47.51</td>\n",
       "      <td>47.51</td>\n",
       "      <td>48.83</td>\n",
       "      <td>47.51</td>\n",
       "      <td>47.51</td>\n",
       "      <td>31-12-2018</td>\n",
       "    </tr>\n",
       "    <tr>\n",
       "      <th>8757</th>\n",
       "      <td>49.66</td>\n",
       "      <td>45.82</td>\n",
       "      <td>45.82</td>\n",
       "      <td>45.82</td>\n",
       "      <td>45.82</td>\n",
       "      <td>NaN</td>\n",
       "      <td>20 - 21</td>\n",
       "      <td>49.66</td>\n",
       "      <td>45.82</td>\n",
       "      <td>45.82</td>\n",
       "      <td>45.82</td>\n",
       "      <td>49.66</td>\n",
       "      <td>45.82</td>\n",
       "      <td>45.82</td>\n",
       "      <td>45.82</td>\n",
       "      <td>45.82</td>\n",
       "      <td>47.23</td>\n",
       "      <td>45.82</td>\n",
       "      <td>45.82</td>\n",
       "      <td>31-12-2018</td>\n",
       "    </tr>\n",
       "    <tr>\n",
       "      <th>8758</th>\n",
       "      <td>49.05</td>\n",
       "      <td>43.03</td>\n",
       "      <td>43.03</td>\n",
       "      <td>43.03</td>\n",
       "      <td>43.03</td>\n",
       "      <td>NaN</td>\n",
       "      <td>21 - 22</td>\n",
       "      <td>49.05</td>\n",
       "      <td>43.03</td>\n",
       "      <td>43.03</td>\n",
       "      <td>45.41</td>\n",
       "      <td>49.05</td>\n",
       "      <td>43.03</td>\n",
       "      <td>43.03</td>\n",
       "      <td>43.03</td>\n",
       "      <td>43.03</td>\n",
       "      <td>46.02</td>\n",
       "      <td>45.41</td>\n",
       "      <td>45.41</td>\n",
       "      <td>31-12-2018</td>\n",
       "    </tr>\n",
       "    <tr>\n",
       "      <th>8759</th>\n",
       "      <td>49.32</td>\n",
       "      <td>38.54</td>\n",
       "      <td>38.54</td>\n",
       "      <td>38.54</td>\n",
       "      <td>38.54</td>\n",
       "      <td>NaN</td>\n",
       "      <td>22 - 23</td>\n",
       "      <td>49.32</td>\n",
       "      <td>38.54</td>\n",
       "      <td>38.54</td>\n",
       "      <td>43.97</td>\n",
       "      <td>49.32</td>\n",
       "      <td>38.54</td>\n",
       "      <td>38.54</td>\n",
       "      <td>38.54</td>\n",
       "      <td>38.54</td>\n",
       "      <td>45.55</td>\n",
       "      <td>43.97</td>\n",
       "      <td>43.97</td>\n",
       "      <td>31-12-2018</td>\n",
       "    </tr>\n",
       "    <tr>\n",
       "      <th>8760</th>\n",
       "      <td>48.25</td>\n",
       "      <td>25.70</td>\n",
       "      <td>25.70</td>\n",
       "      <td>25.70</td>\n",
       "      <td>25.70</td>\n",
       "      <td>NaN</td>\n",
       "      <td>23 - 00</td>\n",
       "      <td>48.25</td>\n",
       "      <td>25.70</td>\n",
       "      <td>25.70</td>\n",
       "      <td>43.01</td>\n",
       "      <td>48.25</td>\n",
       "      <td>25.70</td>\n",
       "      <td>25.70</td>\n",
       "      <td>25.70</td>\n",
       "      <td>25.70</td>\n",
       "      <td>42.69</td>\n",
       "      <td>43.01</td>\n",
       "      <td>43.01</td>\n",
       "      <td>31-12-2018</td>\n",
       "    </tr>\n",
       "  </tbody>\n",
       "</table>\n",
       "<p>26307 rows × 20 columns</p>\n",
       "</div>"
      ],
      "text/plain": [
       "      Bergen    DK1    DK2     EE     FI  FRE    Hours  Kr.sand     LT     LV  \\\n",
       "0      16.39  16.39  16.39  16.39  16.39  NaN  00 - 01    16.39  28.11  28.11   \n",
       "1      16.04  16.04  16.04  16.04  16.04  NaN  01 - 02    16.04  16.04  16.04   \n",
       "2      15.74  15.74  15.74  15.74  15.74  NaN  02 - 03    15.74  15.74  15.74   \n",
       "3      15.57  15.57  15.57  15.57  15.57  NaN  03 - 04    15.57  15.57  15.57   \n",
       "4      15.47  15.47  15.47  15.47  15.47  NaN  04 - 05    15.47  15.47  15.47   \n",
       "...      ...    ...    ...    ...    ...  ...      ...      ...    ...    ...   \n",
       "8756   50.66  47.51  47.51  47.51  47.51  NaN  19 - 20    50.66  47.51  47.51   \n",
       "8757   49.66  45.82  45.82  45.82  45.82  NaN  20 - 21    49.66  45.82  45.82   \n",
       "8758   49.05  43.03  43.03  43.03  43.03  NaN  21 - 22    49.05  43.03  43.03   \n",
       "8759   49.32  38.54  38.54  38.54  38.54  NaN  22 - 23    49.32  38.54  38.54   \n",
       "8760   48.25  25.70  25.70  25.70  25.70  NaN  23 - 00    48.25  25.70  25.70   \n",
       "\n",
       "      Molde   Oslo    SE1    SE2    SE3    SE4    SYS  Tr.heim  Tromsø  \\\n",
       "0     16.39  16.39  16.39  16.39  16.39  16.39  16.39    16.39   16.39   \n",
       "1     16.04  16.04  16.04  16.04  16.04  16.04  16.04    16.04   16.04   \n",
       "2     15.74  15.74  15.74  15.74  15.74  15.74  15.74    15.74   15.74   \n",
       "3     15.57  15.57  15.57  15.57  15.57  15.57  15.57    15.57   15.57   \n",
       "4     15.47  15.47  15.47  15.47  15.47  15.47  15.47    15.47   15.47   \n",
       "...     ...    ...    ...    ...    ...    ...    ...      ...     ...   \n",
       "8756  47.51  50.66  47.51  47.51  47.51  47.51  48.83    47.51   47.51   \n",
       "8757  45.82  49.66  45.82  45.82  45.82  45.82  47.23    45.82   45.82   \n",
       "8758  45.41  49.05  43.03  43.03  43.03  43.03  46.02    45.41   45.41   \n",
       "8759  43.97  49.32  38.54  38.54  38.54  38.54  45.55    43.97   43.97   \n",
       "8760  43.01  48.25  25.70  25.70  25.70  25.70  42.69    43.01   43.01   \n",
       "\n",
       "      Unnamed: 0  \n",
       "0     01-01-2016  \n",
       "1     01-01-2016  \n",
       "2     01-01-2016  \n",
       "3     01-01-2016  \n",
       "4     01-01-2016  \n",
       "...          ...  \n",
       "8756  31-12-2018  \n",
       "8757  31-12-2018  \n",
       "8758  31-12-2018  \n",
       "8759  31-12-2018  \n",
       "8760  31-12-2018  \n",
       "\n",
       "[26307 rows x 20 columns]"
      ]
     },
     "execution_count": 52,
     "metadata": {},
     "output_type": "execute_result"
    }
   ],
   "source": [
    "prices"
   ]
  },
  {
   "cell_type": "code",
   "execution_count": null,
   "metadata": {},
   "outputs": [],
   "source": []
  },
  {
   "cell_type": "code",
   "execution_count": null,
   "metadata": {},
   "outputs": [],
   "source": [
    "methods = {\n",
    "    'QRF': RandomForestQuantileRegressor(),\n",
    "    'GBR': GradientBoostingRegressor(),\n",
    "    'ETR': ExtraTreesRegressor(),\n",
    "}"
   ]
  },
  {
   "cell_type": "code",
   "execution_count": null,
   "metadata": {},
   "outputs": [],
   "source": [
    "result_t3 = []\n",
    "\n",
    "for method_name, model in methods.items():\n",
    "        X_train, X_test, y_train, y_test = train_test_split(\n",
    "            X.drop(columns=[target, timestamp]), X[target],\n",
    "            test_size=0.33, random_state=42,\n",
    "            stratify=X[target],\n",
    "        )\n",
    "        X_train = X_train.reset_index(drop=True)\n",
    "        X_test = X_test.reset_index(drop=True)\n",
    "        y_train = y_train.reset_index(drop=True)\n",
    "        y_test = y_test.reset_index(drop=True)\n",
    "        \n",
    "        model.fit(X=X_train, y=y_train);\n",
    "        y_pred = model.predict(X_test)\n",
    "        \n",
    "        MSE = mean_squared_error(y_actual=y_test, y_hat=y_pred)\n",
    "        MAE = mean_absolute_error(y_test, y_pred)\n",
    "        RMSE = mean_squared_error(y_test, y_pred, squared=False)\n",
    "        r = r2_score(y_test, y_pred)\n",
    "        \n",
    "        result_t3.append([ds_name, method_name, MSE, MAE, RMSE, r])\n",
    "        \n",
    "result_t3 = pd.DataFrame(result_t3, columns=['Method', 'MSE', 'MAE', 'RMSE', 'R-score'])        "
   ]
  },
  {
   "cell_type": "code",
   "execution_count": null,
   "metadata": {},
   "outputs": [],
   "source": [
    "result_t3"
   ]
  },
  {
   "cell_type": "markdown",
   "metadata": {},
   "source": [
    "### table 4"
   ]
  },
  {
   "cell_type": "code",
   "execution_count": 22,
   "metadata": {
    "ExecuteTime": {
     "end_time": "2022-02-23T16:35:06.427248Z",
     "start_time": "2022-02-23T16:35:06.388165Z"
    }
   },
   "outputs": [],
   "source": [
    "# https://stackoverflow.com/a/31351145\n",
    "def tpr_tnr(y_actual, y_hat):\n",
    "    TP = 0\n",
    "    FP = 0\n",
    "    TN = 0\n",
    "    FN = 0\n",
    "\n",
    "    for i in range(len(y_hat)): \n",
    "        if y_actual[i]==y_hat[i]==1:\n",
    "            TP += 1\n",
    "        if y_hat[i]==1 and y_actual[i]!=y_hat[i]:\n",
    "            FP += 1\n",
    "        if y_actual[i]==y_hat[i]==0:\n",
    "            TN += 1\n",
    "        if y_hat[i]==0 and y_actual[i]!=y_hat[i]:\n",
    "            FN += 1\n",
    "\n",
    "    # https://en.wikipedia.org/wiki/Sensitivity_and_specificity \n",
    "    TPR = TP/(TP+FN)\n",
    "    TNR = TN/(TN+FP)\n",
    "    FPR = FP/(FP+TN)\n",
    "    return TPR, TNR, FPR"
   ]
  },
  {
   "cell_type": "code",
   "execution_count": null,
   "metadata": {},
   "outputs": [],
   "source": [
    "# ![image.png](attachment:image.png)"
   ]
  },
  {
   "cell_type": "code",
   "execution_count": 26,
   "metadata": {},
   "outputs": [],
   "source": [
    "from sklearn.model_selection import train_test_split\n",
    "from sklearn.metrics import roc_auc_score\n",
    "from sklearn.cluster import KMeans\n",
    "from sklearn.ensemble import IsolationForest\n",
    "from sklearn.svm import OneClassSVM\n",
    "from sklearn.neighbors import KNeighborsClassifier\n",
    "from sklearn.neighbors import LocalOutlierFactor"
   ]
  },
  {
   "cell_type": "code",
   "execution_count": 29,
   "metadata": {},
   "outputs": [],
   "source": [
    "timestamp = 'timestamp'\n",
    "target = 'anomaly'\n",
    "current_value = 'value'"
   ]
  },
  {
   "cell_type": "code",
   "execution_count": 32,
   "metadata": {},
   "outputs": [],
   "source": [
    "methods = {\n",
    "    'kmeans': KMeans(),\n",
    "    'iForest': IsolationForest(),\n",
    "    'OCSVM': OneClassSVM(),\n",
    "    'k-NN': KNeighborsClassifier(),\n",
    "    'LOF': LocalOutlierFactor(novelty=True),\n",
    "    \n",
    "}\n",
    "datasets = {\n",
    "    'speed7578': sp,\n",
    "    'nyc taxi': nt,\n",
    "    'ambient temp': at,\n",
    "    'machine temp': mt,\n",
    "}"
   ]
  },
  {
   "cell_type": "code",
   "execution_count": 35,
   "metadata": {},
   "outputs": [],
   "source": [
    "result_t4 = []\n",
    "for ds_name, X in datasets.items():\n",
    "    for method_name, model in methods.items():\n",
    "        X_train, X_test, y_train, y_test = train_test_split(\n",
    "            X.drop(columns=[target, timestamp]), X[target],\n",
    "            test_size=0.33, random_state=42,\n",
    "            stratify=X[target],\n",
    "        )\n",
    "        X_train = X_train.reset_index(drop=True)\n",
    "        X_test = X_test.reset_index(drop=True)\n",
    "        y_train = y_train.reset_index(drop=True)\n",
    "        y_test = y_test.reset_index(drop=True)\n",
    "        \n",
    "        model.fit(X=X_train, y=y_train);\n",
    "        y_pred = model.predict(X_test)\n",
    "        TPR, TNR, FPR = tpr_tnr(y_actual=y_test, y_hat=y_pred)\n",
    "        AUC = roc_auc_score(y_test, y_pred)\n",
    "        result_t4.append([ds_name, method_name, TPR, TNR, FPR, AUC])\n",
    "        \n",
    "result_t4 = pd.DataFrame(result_t4, columns=['Data', 'Method', 'TPR', 'TNR', 'FPR', 'AUC'])        "
   ]
  },
  {
   "cell_type": "code",
   "execution_count": 37,
   "metadata": {},
   "outputs": [
    {
     "data": {
      "text/html": [
       "<div>\n",
       "<style scoped>\n",
       "    .dataframe tbody tr th:only-of-type {\n",
       "        vertical-align: middle;\n",
       "    }\n",
       "\n",
       "    .dataframe tbody tr th {\n",
       "        vertical-align: top;\n",
       "    }\n",
       "\n",
       "    .dataframe thead th {\n",
       "        text-align: right;\n",
       "    }\n",
       "</style>\n",
       "<table border=\"1\" class=\"dataframe\">\n",
       "  <thead>\n",
       "    <tr style=\"text-align: right;\">\n",
       "      <th></th>\n",
       "      <th>Data</th>\n",
       "      <th>Method</th>\n",
       "      <th>TPR</th>\n",
       "      <th>TNR</th>\n",
       "      <th>FPR</th>\n",
       "      <th>AUC</th>\n",
       "    </tr>\n",
       "  </thead>\n",
       "  <tbody>\n",
       "    <tr>\n",
       "      <th>0</th>\n",
       "      <td>speed7578</td>\n",
       "      <td>kmeans</td>\n",
       "      <td>0.777778</td>\n",
       "      <td>0.247191</td>\n",
       "      <td>0.752809</td>\n",
       "      <td>0.540537</td>\n",
       "    </tr>\n",
       "    <tr>\n",
       "      <th>1</th>\n",
       "      <td>speed7578</td>\n",
       "      <td>iForest</td>\n",
       "      <td>1.000000</td>\n",
       "      <td>0.000000</td>\n",
       "      <td>1.000000</td>\n",
       "      <td>0.352348</td>\n",
       "    </tr>\n",
       "    <tr>\n",
       "      <th>2</th>\n",
       "      <td>speed7578</td>\n",
       "      <td>OCSVM</td>\n",
       "      <td>1.000000</td>\n",
       "      <td>0.000000</td>\n",
       "      <td>1.000000</td>\n",
       "      <td>0.400095</td>\n",
       "    </tr>\n",
       "    <tr>\n",
       "      <th>3</th>\n",
       "      <td>speed7578</td>\n",
       "      <td>k-NN</td>\n",
       "      <td>0.210526</td>\n",
       "      <td>0.997006</td>\n",
       "      <td>0.002994</td>\n",
       "      <td>0.603766</td>\n",
       "    </tr>\n",
       "    <tr>\n",
       "      <th>4</th>\n",
       "      <td>speed7578</td>\n",
       "      <td>LOF</td>\n",
       "      <td>1.000000</td>\n",
       "      <td>0.000000</td>\n",
       "      <td>1.000000</td>\n",
       "      <td>0.477624</td>\n",
       "    </tr>\n",
       "  </tbody>\n",
       "</table>\n",
       "</div>"
      ],
      "text/plain": [
       "        Data   Method       TPR       TNR       FPR       AUC\n",
       "0  speed7578   kmeans  0.777778  0.247191  0.752809  0.540537\n",
       "1  speed7578  iForest  1.000000  0.000000  1.000000  0.352348\n",
       "2  speed7578    OCSVM  1.000000  0.000000  1.000000  0.400095\n",
       "3  speed7578     k-NN  0.210526  0.997006  0.002994  0.603766\n",
       "4  speed7578      LOF  1.000000  0.000000  1.000000  0.477624"
      ]
     },
     "execution_count": 37,
     "metadata": {},
     "output_type": "execute_result"
    }
   ],
   "source": [
    "result_t4.loc[result_t4['Data'] == 'speed7578']"
   ]
  },
  {
   "cell_type": "code",
   "execution_count": 38,
   "metadata": {},
   "outputs": [
    {
     "data": {
      "text/html": [
       "<div>\n",
       "<style scoped>\n",
       "    .dataframe tbody tr th:only-of-type {\n",
       "        vertical-align: middle;\n",
       "    }\n",
       "\n",
       "    .dataframe tbody tr th {\n",
       "        vertical-align: top;\n",
       "    }\n",
       "\n",
       "    .dataframe thead th {\n",
       "        text-align: right;\n",
       "    }\n",
       "</style>\n",
       "<table border=\"1\" class=\"dataframe\">\n",
       "  <thead>\n",
       "    <tr style=\"text-align: right;\">\n",
       "      <th></th>\n",
       "      <th>Data</th>\n",
       "      <th>Method</th>\n",
       "      <th>TPR</th>\n",
       "      <th>TNR</th>\n",
       "      <th>FPR</th>\n",
       "      <th>AUC</th>\n",
       "    </tr>\n",
       "  </thead>\n",
       "  <tbody>\n",
       "    <tr>\n",
       "      <th>5</th>\n",
       "      <td>nyc taxi</td>\n",
       "      <td>kmeans</td>\n",
       "      <td>0.450000</td>\n",
       "      <td>0.742282</td>\n",
       "      <td>0.257718</td>\n",
       "      <td>0.495327</td>\n",
       "    </tr>\n",
       "    <tr>\n",
       "      <th>6</th>\n",
       "      <td>nyc taxi</td>\n",
       "      <td>iForest</td>\n",
       "      <td>1.000000</td>\n",
       "      <td>0.000000</td>\n",
       "      <td>1.000000</td>\n",
       "      <td>0.436551</td>\n",
       "    </tr>\n",
       "    <tr>\n",
       "      <th>7</th>\n",
       "      <td>nyc taxi</td>\n",
       "      <td>OCSVM</td>\n",
       "      <td>1.000000</td>\n",
       "      <td>0.000000</td>\n",
       "      <td>1.000000</td>\n",
       "      <td>0.486979</td>\n",
       "    </tr>\n",
       "    <tr>\n",
       "      <th>8</th>\n",
       "      <td>nyc taxi</td>\n",
       "      <td>k-NN</td>\n",
       "      <td>0.023392</td>\n",
       "      <td>0.990862</td>\n",
       "      <td>0.009138</td>\n",
       "      <td>0.507127</td>\n",
       "    </tr>\n",
       "    <tr>\n",
       "      <th>9</th>\n",
       "      <td>nyc taxi</td>\n",
       "      <td>LOF</td>\n",
       "      <td>1.000000</td>\n",
       "      <td>0.000000</td>\n",
       "      <td>1.000000</td>\n",
       "      <td>0.495940</td>\n",
       "    </tr>\n",
       "  </tbody>\n",
       "</table>\n",
       "</div>"
      ],
      "text/plain": [
       "       Data   Method       TPR       TNR       FPR       AUC\n",
       "5  nyc taxi   kmeans  0.450000  0.742282  0.257718  0.495327\n",
       "6  nyc taxi  iForest  1.000000  0.000000  1.000000  0.436551\n",
       "7  nyc taxi    OCSVM  1.000000  0.000000  1.000000  0.486979\n",
       "8  nyc taxi     k-NN  0.023392  0.990862  0.009138  0.507127\n",
       "9  nyc taxi      LOF  1.000000  0.000000  1.000000  0.495940"
      ]
     },
     "execution_count": 38,
     "metadata": {},
     "output_type": "execute_result"
    }
   ],
   "source": [
    "result_t4.loc[result_t4['Data'] == 'nyc taxi']"
   ]
  },
  {
   "cell_type": "code",
   "execution_count": 39,
   "metadata": {},
   "outputs": [
    {
     "data": {
      "text/html": [
       "<div>\n",
       "<style scoped>\n",
       "    .dataframe tbody tr th:only-of-type {\n",
       "        vertical-align: middle;\n",
       "    }\n",
       "\n",
       "    .dataframe tbody tr th {\n",
       "        vertical-align: top;\n",
       "    }\n",
       "\n",
       "    .dataframe thead th {\n",
       "        text-align: right;\n",
       "    }\n",
       "</style>\n",
       "<table border=\"1\" class=\"dataframe\">\n",
       "  <thead>\n",
       "    <tr style=\"text-align: right;\">\n",
       "      <th></th>\n",
       "      <th>Data</th>\n",
       "      <th>Method</th>\n",
       "      <th>TPR</th>\n",
       "      <th>TNR</th>\n",
       "      <th>FPR</th>\n",
       "      <th>AUC</th>\n",
       "    </tr>\n",
       "  </thead>\n",
       "  <tbody>\n",
       "    <tr>\n",
       "      <th>10</th>\n",
       "      <td>ambient temp</td>\n",
       "      <td>kmeans</td>\n",
       "      <td>0.373737</td>\n",
       "      <td>0.466667</td>\n",
       "      <td>0.533333</td>\n",
       "      <td>0.438451</td>\n",
       "    </tr>\n",
       "    <tr>\n",
       "      <th>11</th>\n",
       "      <td>ambient temp</td>\n",
       "      <td>iForest</td>\n",
       "      <td>1.000000</td>\n",
       "      <td>0.000000</td>\n",
       "      <td>1.000000</td>\n",
       "      <td>0.328512</td>\n",
       "    </tr>\n",
       "    <tr>\n",
       "      <th>12</th>\n",
       "      <td>ambient temp</td>\n",
       "      <td>OCSVM</td>\n",
       "      <td>1.000000</td>\n",
       "      <td>0.000000</td>\n",
       "      <td>1.000000</td>\n",
       "      <td>0.333439</td>\n",
       "    </tr>\n",
       "    <tr>\n",
       "      <th>13</th>\n",
       "      <td>ambient temp</td>\n",
       "      <td>k-NN</td>\n",
       "      <td>0.191667</td>\n",
       "      <td>0.979620</td>\n",
       "      <td>0.020380</td>\n",
       "      <td>0.585643</td>\n",
       "    </tr>\n",
       "    <tr>\n",
       "      <th>14</th>\n",
       "      <td>ambient temp</td>\n",
       "      <td>LOF</td>\n",
       "      <td>1.000000</td>\n",
       "      <td>0.000000</td>\n",
       "      <td>1.000000</td>\n",
       "      <td>0.492130</td>\n",
       "    </tr>\n",
       "  </tbody>\n",
       "</table>\n",
       "</div>"
      ],
      "text/plain": [
       "            Data   Method       TPR       TNR       FPR       AUC\n",
       "10  ambient temp   kmeans  0.373737  0.466667  0.533333  0.438451\n",
       "11  ambient temp  iForest  1.000000  0.000000  1.000000  0.328512\n",
       "12  ambient temp    OCSVM  1.000000  0.000000  1.000000  0.333439\n",
       "13  ambient temp     k-NN  0.191667  0.979620  0.020380  0.585643\n",
       "14  ambient temp      LOF  1.000000  0.000000  1.000000  0.492130"
      ]
     },
     "execution_count": 39,
     "metadata": {},
     "output_type": "execute_result"
    }
   ],
   "source": [
    "result_t4.loc[result_t4['Data'] == 'ambient temp']"
   ]
  },
  {
   "cell_type": "code",
   "execution_count": 40,
   "metadata": {},
   "outputs": [
    {
     "data": {
      "text/html": [
       "<div>\n",
       "<style scoped>\n",
       "    .dataframe tbody tr th:only-of-type {\n",
       "        vertical-align: middle;\n",
       "    }\n",
       "\n",
       "    .dataframe tbody tr th {\n",
       "        vertical-align: top;\n",
       "    }\n",
       "\n",
       "    .dataframe thead th {\n",
       "        text-align: right;\n",
       "    }\n",
       "</style>\n",
       "<table border=\"1\" class=\"dataframe\">\n",
       "  <thead>\n",
       "    <tr style=\"text-align: right;\">\n",
       "      <th></th>\n",
       "      <th>Data</th>\n",
       "      <th>Method</th>\n",
       "      <th>TPR</th>\n",
       "      <th>TNR</th>\n",
       "      <th>FPR</th>\n",
       "      <th>AUC</th>\n",
       "    </tr>\n",
       "  </thead>\n",
       "  <tbody>\n",
       "    <tr>\n",
       "      <th>15</th>\n",
       "      <td>machine temp</td>\n",
       "      <td>kmeans</td>\n",
       "      <td>0.701087</td>\n",
       "      <td>0.89090</td>\n",
       "      <td>0.10910</td>\n",
       "      <td>0.504751</td>\n",
       "    </tr>\n",
       "    <tr>\n",
       "      <th>16</th>\n",
       "      <td>machine temp</td>\n",
       "      <td>iForest</td>\n",
       "      <td>1.000000</td>\n",
       "      <td>0.00000</td>\n",
       "      <td>1.00000</td>\n",
       "      <td>0.231716</td>\n",
       "    </tr>\n",
       "    <tr>\n",
       "      <th>17</th>\n",
       "      <td>machine temp</td>\n",
       "      <td>OCSVM</td>\n",
       "      <td>1.000000</td>\n",
       "      <td>0.00000</td>\n",
       "      <td>1.00000</td>\n",
       "      <td>0.327845</td>\n",
       "    </tr>\n",
       "    <tr>\n",
       "      <th>18</th>\n",
       "      <td>machine temp</td>\n",
       "      <td>k-NN</td>\n",
       "      <td>0.431242</td>\n",
       "      <td>0.98205</td>\n",
       "      <td>0.01795</td>\n",
       "      <td>0.706646</td>\n",
       "    </tr>\n",
       "    <tr>\n",
       "      <th>19</th>\n",
       "      <td>machine temp</td>\n",
       "      <td>LOF</td>\n",
       "      <td>1.000000</td>\n",
       "      <td>0.00000</td>\n",
       "      <td>1.00000</td>\n",
       "      <td>0.494660</td>\n",
       "    </tr>\n",
       "  </tbody>\n",
       "</table>\n",
       "</div>"
      ],
      "text/plain": [
       "            Data   Method       TPR      TNR      FPR       AUC\n",
       "15  machine temp   kmeans  0.701087  0.89090  0.10910  0.504751\n",
       "16  machine temp  iForest  1.000000  0.00000  1.00000  0.231716\n",
       "17  machine temp    OCSVM  1.000000  0.00000  1.00000  0.327845\n",
       "18  machine temp     k-NN  0.431242  0.98205  0.01795  0.706646\n",
       "19  machine temp      LOF  1.000000  0.00000  1.00000  0.494660"
      ]
     },
     "execution_count": 40,
     "metadata": {},
     "output_type": "execute_result"
    }
   ],
   "source": [
    "result_t4.loc[result_t4['Data'] == 'machine temp']"
   ]
  },
  {
   "cell_type": "markdown",
   "metadata": {},
   "source": [
    "### table 5"
   ]
  },
  {
   "attachments": {
    "image.png": {
     "image/png": "[encoded data removed]"
    }
   },
   "cell_type": "markdown",
   "metadata": {},
   "source": [
    "![image.png](attachment:image.png)"
   ]
  },
  {
   "cell_type": "markdown",
   "metadata": {},
   "source": [
    "Logistic regression (LR) captured some outliers, but the Random\n",
    "Forest classifier (RFC) and k-NN could not classify outliers\n",
    "correctly in the test sets."
   ]
  },
  {
   "cell_type": "code",
   "execution_count": 227,
   "metadata": {
    "ExecuteTime": {
     "end_time": "2022-02-23T16:47:19.690077Z",
     "start_time": "2022-02-23T16:47:19.655245Z"
    }
   },
   "outputs": [],
   "source": [
    "from sklearn.model_selection import train_test_split\n",
    "from sklearn.metrics import roc_auc_score\n",
    "from sklearn.ensemble import RandomForestClassifier\n",
    "from sklearn.neighbors import KNeighborsClassifier\n",
    "from sklearn.linear_model import LogisticRegression"
   ]
  },
  {
   "cell_type": "code",
   "execution_count": 202,
   "metadata": {
    "ExecuteTime": {
     "end_time": "2022-02-23T16:35:41.770487Z",
     "start_time": "2022-02-23T16:35:41.736983Z"
    }
   },
   "outputs": [],
   "source": [
    "timestamp = 'timestamp'\n",
    "target = 'anomaly'\n",
    "current_value = 'value'"
   ]
  },
  {
   "cell_type": "code",
   "execution_count": 198,
   "metadata": {
    "ExecuteTime": {
     "end_time": "2022-02-23T16:35:33.571185Z",
     "start_time": "2022-02-23T16:35:33.536927Z"
    }
   },
   "outputs": [],
   "source": [
    "X = mt.copy()"
   ]
  },
  {
   "cell_type": "markdown",
   "metadata": {},
   "source": [
    "> example for 1 model"
   ]
  },
  {
   "cell_type": "code",
   "execution_count": 199,
   "metadata": {
    "ExecuteTime": {
     "end_time": "2022-02-23T16:35:33.770280Z",
     "start_time": "2022-02-23T16:35:33.736434Z"
    }
   },
   "outputs": [],
   "source": [
    "model = RandomForestClassifier(random_state=123)"
   ]
  },
  {
   "cell_type": "code",
   "execution_count": 219,
   "metadata": {
    "ExecuteTime": {
     "end_time": "2022-02-23T16:39:15.625971Z",
     "start_time": "2022-02-23T16:39:15.582935Z"
    }
   },
   "outputs": [],
   "source": [
    "X_train, X_test, y_train, y_test = train_test_split(\n",
    "    X.drop(columns=[target, timestamp]), X[target],\n",
    "    test_size=0.33, random_state=42,\n",
    "    stratify=X[target],\n",
    ")\n",
    "X_train = X_train.reset_index(drop=True)\n",
    "X_test = X_test.reset_index(drop=True)\n",
    "y_train = y_train.reset_index(drop=True)\n",
    "y_test = y_test.reset_index(drop=True)"
   ]
  },
  {
   "cell_type": "code",
   "execution_count": 223,
   "metadata": {
    "ExecuteTime": {
     "end_time": "2022-02-23T16:42:00.348340Z",
     "start_time": "2022-02-23T16:42:00.310431Z"
    }
   },
   "outputs": [
    {
     "data": {
      "text/plain": [
       "0    0.9\n",
       "1    0.1\n",
       "Name: anomaly, dtype: float64"
      ]
     },
     "execution_count": 223,
     "metadata": {},
     "output_type": "execute_result"
    }
   ],
   "source": [
    "y_test.value_counts()/len(y_test)"
   ]
  },
  {
   "cell_type": "code",
   "execution_count": 204,
   "metadata": {
    "ExecuteTime": {
     "end_time": "2022-02-23T16:35:47.864422Z",
     "start_time": "2022-02-23T16:35:46.315226Z"
    }
   },
   "outputs": [],
   "source": [
    "model.fit(X_train, y_train);"
   ]
  },
  {
   "cell_type": "code",
   "execution_count": 216,
   "metadata": {
    "ExecuteTime": {
     "end_time": "2022-02-23T16:36:54.588427Z",
     "start_time": "2022-02-23T16:36:54.364022Z"
    }
   },
   "outputs": [],
   "source": [
    "y_pred = model.predict(X_test)\n",
    "y_pred_proba = model.predict_proba(X_test)[:, 1]  # proba of the positive class"
   ]
  },
  {
   "cell_type": "code",
   "execution_count": 226,
   "metadata": {
    "ExecuteTime": {
     "end_time": "2022-02-23T16:43:06.475314Z",
     "start_time": "2022-02-23T16:43:06.373769Z"
    }
   },
   "outputs": [],
   "source": [
    "TPR, TNR, FPR = tpr_tnr(y_actual=y_test, y_hat=y_pred)\n",
    "auc = roc_auc_score(y_true=y_test, y_score=y_pred_proba)"
   ]
  },
  {
   "cell_type": "markdown",
   "metadata": {},
   "source": [
    "> Table 5"
   ]
  },
  {
   "cell_type": "code",
   "execution_count": 238,
   "metadata": {
    "ExecuteTime": {
     "end_time": "2022-02-23T16:52:38.279394Z",
     "start_time": "2022-02-23T16:52:38.246130Z"
    }
   },
   "outputs": [],
   "source": [
    "methods = {\n",
    "    'RFC': RandomForestClassifier(),\n",
    "    'LR': LogisticRegression(),\n",
    "    'k-NN': KNeighborsClassifier(),\n",
    "}\n",
    "datasets = {\n",
    "    'speed7578': sp,\n",
    "    'nyc taxi': nt,\n",
    "    'ambient temp': at,\n",
    "    'machine temp': mt,\n",
    "}"
   ]
  },
  {
   "cell_type": "code",
   "execution_count": 239,
   "metadata": {
    "ExecuteTime": {
     "end_time": "2022-02-23T16:52:42.264848Z",
     "start_time": "2022-02-23T16:52:38.421765Z"
    }
   },
   "outputs": [],
   "source": [
    "result_t5 = []\n",
    "for ds_name, X in datasets.items():\n",
    "    for method_name, model in methods.items():\n",
    "        X_train, X_test, y_train, y_test = train_test_split(\n",
    "            X.drop(columns=[target, timestamp]), X[target],\n",
    "            test_size=0.33, random_state=42,\n",
    "            stratify=X[target],\n",
    "        )\n",
    "        X_train = X_train.reset_index(drop=True)\n",
    "        X_test = X_test.reset_index(drop=True)\n",
    "        y_train = y_train.reset_index(drop=True)\n",
    "        y_test = y_test.reset_index(drop=True)\n",
    "        \n",
    "        model.fit(X=X_train, y=y_train);\n",
    "        y_pred = model.predict(X_test)\n",
    "        TPR, TNR, FPR = tpr_tnr(y_actual=y_test, y_hat=y_pred)\n",
    "        result_t5.append([ds_name, method_name, TPR, TNR, FPR])\n",
    "        \n",
    "result_t5 = pd.DataFrame(result_t5, columns=['Data', 'Method', 'TPR', 'TNR', 'FPR'])"
   ]
  },
  {
   "cell_type": "code",
   "execution_count": 240,
   "metadata": {
    "ExecuteTime": {
     "end_time": "2022-02-23T16:52:42.303191Z",
     "start_time": "2022-02-23T16:52:42.266650Z"
    }
   },
   "outputs": [
    {
     "data": {
      "text/html": [
       "<div>\n",
       "<style scoped>\n",
       "    .dataframe tbody tr th:only-of-type {\n",
       "        vertical-align: middle;\n",
       "    }\n",
       "\n",
       "    .dataframe tbody tr th {\n",
       "        vertical-align: top;\n",
       "    }\n",
       "\n",
       "    .dataframe thead th {\n",
       "        text-align: right;\n",
       "    }\n",
       "</style>\n",
       "<table border=\"1\" class=\"dataframe\">\n",
       "  <thead>\n",
       "    <tr style=\"text-align: right;\">\n",
       "      <th></th>\n",
       "      <th>Data</th>\n",
       "      <th>Method</th>\n",
       "      <th>TPR</th>\n",
       "      <th>TNR</th>\n",
       "      <th>FPR</th>\n",
       "    </tr>\n",
       "  </thead>\n",
       "  <tbody>\n",
       "    <tr>\n",
       "      <th>0</th>\n",
       "      <td>speed7578</td>\n",
       "      <td>RFC</td>\n",
       "      <td>0.184211</td>\n",
       "      <td>0.997006</td>\n",
       "      <td>0.002994</td>\n",
       "    </tr>\n",
       "    <tr>\n",
       "      <th>1</th>\n",
       "      <td>speed7578</td>\n",
       "      <td>LR</td>\n",
       "      <td>0.210526</td>\n",
       "      <td>0.997006</td>\n",
       "      <td>0.002994</td>\n",
       "    </tr>\n",
       "    <tr>\n",
       "      <th>2</th>\n",
       "      <td>speed7578</td>\n",
       "      <td>k-NN</td>\n",
       "      <td>0.210526</td>\n",
       "      <td>0.997006</td>\n",
       "      <td>0.002994</td>\n",
       "    </tr>\n",
       "    <tr>\n",
       "      <th>3</th>\n",
       "      <td>nyc taxi</td>\n",
       "      <td>RFC</td>\n",
       "      <td>0.114035</td>\n",
       "      <td>0.919713</td>\n",
       "      <td>0.080287</td>\n",
       "    </tr>\n",
       "    <tr>\n",
       "      <th>4</th>\n",
       "      <td>nyc taxi</td>\n",
       "      <td>LR</td>\n",
       "      <td>0.000000</td>\n",
       "      <td>1.000000</td>\n",
       "      <td>0.000000</td>\n",
       "    </tr>\n",
       "    <tr>\n",
       "      <th>5</th>\n",
       "      <td>nyc taxi</td>\n",
       "      <td>k-NN</td>\n",
       "      <td>0.023392</td>\n",
       "      <td>0.992167</td>\n",
       "      <td>0.007833</td>\n",
       "    </tr>\n",
       "    <tr>\n",
       "      <th>6</th>\n",
       "      <td>ambient temp</td>\n",
       "      <td>RFC</td>\n",
       "      <td>0.266667</td>\n",
       "      <td>0.918481</td>\n",
       "      <td>0.081519</td>\n",
       "    </tr>\n",
       "    <tr>\n",
       "      <th>7</th>\n",
       "      <td>ambient temp</td>\n",
       "      <td>LR</td>\n",
       "      <td>0.000000</td>\n",
       "      <td>1.000000</td>\n",
       "      <td>0.000000</td>\n",
       "    </tr>\n",
       "    <tr>\n",
       "      <th>8</th>\n",
       "      <td>ambient temp</td>\n",
       "      <td>k-NN</td>\n",
       "      <td>0.191667</td>\n",
       "      <td>0.979620</td>\n",
       "      <td>0.020380</td>\n",
       "    </tr>\n",
       "    <tr>\n",
       "      <th>9</th>\n",
       "      <td>machine temp</td>\n",
       "      <td>RFC</td>\n",
       "      <td>0.445928</td>\n",
       "      <td>0.937398</td>\n",
       "      <td>0.062602</td>\n",
       "    </tr>\n",
       "    <tr>\n",
       "      <th>10</th>\n",
       "      <td>machine temp</td>\n",
       "      <td>LR</td>\n",
       "      <td>0.409880</td>\n",
       "      <td>0.990061</td>\n",
       "      <td>0.009939</td>\n",
       "    </tr>\n",
       "    <tr>\n",
       "      <th>11</th>\n",
       "      <td>machine temp</td>\n",
       "      <td>k-NN</td>\n",
       "      <td>0.431242</td>\n",
       "      <td>0.982050</td>\n",
       "      <td>0.017950</td>\n",
       "    </tr>\n",
       "  </tbody>\n",
       "</table>\n",
       "</div>"
      ],
      "text/plain": [
       "            Data Method       TPR       TNR       FPR\n",
       "0      speed7578    RFC  0.184211  0.997006  0.002994\n",
       "1      speed7578     LR  0.210526  0.997006  0.002994\n",
       "2      speed7578   k-NN  0.210526  0.997006  0.002994\n",
       "3       nyc taxi    RFC  0.114035  0.919713  0.080287\n",
       "4       nyc taxi     LR  0.000000  1.000000  0.000000\n",
       "5       nyc taxi   k-NN  0.023392  0.992167  0.007833\n",
       "6   ambient temp    RFC  0.266667  0.918481  0.081519\n",
       "7   ambient temp     LR  0.000000  1.000000  0.000000\n",
       "8   ambient temp   k-NN  0.191667  0.979620  0.020380\n",
       "9   machine temp    RFC  0.445928  0.937398  0.062602\n",
       "10  machine temp     LR  0.409880  0.990061  0.009939\n",
       "11  machine temp   k-NN  0.431242  0.982050  0.017950"
      ]
     },
     "execution_count": 240,
     "metadata": {},
     "output_type": "execute_result"
    }
   ],
   "source": [
    "result_t5"
   ]
  },
  {
   "cell_type": "code",
   "execution_count": null,
   "metadata": {},
   "outputs": [],
   "source": []
  },
  {
   "cell_type": "code",
   "execution_count": null,
   "metadata": {},
   "outputs": [],
   "source": []
  },
  {
   "cell_type": "code",
   "execution_count": null,
   "metadata": {},
   "outputs": [],
   "source": []
  },
  {
   "cell_type": "code",
   "execution_count": null,
   "metadata": {},
   "outputs": [],
   "source": []
  },
  {
   "cell_type": "code",
   "execution_count": null,
   "metadata": {},
   "outputs": [],
   "source": []
  },
  {
   "cell_type": "code",
   "execution_count": null,
   "metadata": {},
   "outputs": [],
   "source": []
  }
 ],
 "metadata": {
  "kernelspec": {
   "display_name": "Python 3",
   "language": "python",
   "name": "python3"
  },
  "language_info": {
   "codemirror_mode": {
    "name": "ipython",
    "version": 3
   },
   "file_extension": ".py",
   "mimetype": "text/x-python",
   "name": "python",
   "nbconvert_exporter": "python",
   "pygments_lexer": "ipython3",
   "version": "3.7.3"
  },
  "toc": {
   "base_numbering": 1,
   "nav_menu": {},
   "number_sections": true,
   "sideBar": true,
   "skip_h1_title": true,
   "title_cell": "Table of Contents",
   "title_sidebar": "Contents",
   "toc_cell": true,
   "toc_position": {},
   "toc_section_display": true,
   "toc_window_display": true
  }
 },
 "nbformat": 4,
 "nbformat_minor": 5
}
