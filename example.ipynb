{
 "cells": [
  {
   "cell_type": "markdown",
   "id": "80b266b9",
   "metadata": {
    "toc": true
   },
   "source": [
    "<h1>Table of Contents<span class=\"tocSkip\"></span></h1>\n",
    "<div class=\"toc\"><ul class=\"toc-item\"><li><span><a href=\"#load-data\" data-toc-modified-id=\"load-data-1\"><span class=\"toc-item-num\">1&nbsp;&nbsp;</span>load data</a></span></li><li><span><a href=\"#market\" data-toc-modified-id=\"market-2\"><span class=\"toc-item-num\">2&nbsp;&nbsp;</span>market</a></span></li><li><span><a href=\"#meta-algorithm\" data-toc-modified-id=\"meta-algorithm-3\"><span class=\"toc-item-num\">3&nbsp;&nbsp;</span>meta algorithm</a></span><ul class=\"toc-item\"><li><span><a href=\"#MMMW\" data-toc-modified-id=\"MMMW-3.1\"><span class=\"toc-item-num\">3.1&nbsp;&nbsp;</span>MMMW</a></span></li></ul></li></ul></div>"
   ]
  },
  {
   "cell_type": "code",
   "execution_count": 1,
   "id": "8a1a60a2-de2f-4553-ada9-9d7f03aa8ba6",
   "metadata": {
    "ExecuteTime": {
     "end_time": "2022-01-23T12:24:04.836418Z",
     "start_time": "2022-01-23T12:24:04.814672Z"
    }
   },
   "outputs": [],
   "source": [
    "%load_ext autoreload\n",
    "%autoreload 2"
   ]
  },
  {
   "cell_type": "code",
   "execution_count": 2,
   "id": "79717306-fefd-4485-b099-04a4eb4165ee",
   "metadata": {
    "ExecuteTime": {
     "end_time": "2022-01-23T12:24:06.049393Z",
     "start_time": "2022-01-23T12:24:04.839262Z"
    }
   },
   "outputs": [],
   "source": [
    "import pandas as pd\n",
    "import numpy as np\n",
    "import seaborn as sns\n",
    "import matplotlib.pyplot as plt\n",
    "\n",
    "sns.set()\n",
    "\n",
    "from tqdm.auto import tqdm"
   ]
  },
  {
   "cell_type": "code",
   "execution_count": 3,
   "id": "359ad44b-fc69-4e0a-9b1e-5bb59a0e4301",
   "metadata": {
    "ExecuteTime": {
     "end_time": "2022-01-23T12:24:06.116793Z",
     "start_time": "2022-01-23T12:24:06.051935Z"
    }
   },
   "outputs": [],
   "source": [
    "from dotenv import load_dotenv\n",
    "import os\n",
    "import finnhub"
   ]
  },
  {
   "cell_type": "code",
   "execution_count": 4,
   "id": "cc82a875-c20e-47a0-89eb-9d379b740289",
   "metadata": {
    "ExecuteTime": {
     "end_time": "2022-01-23T12:24:06.142959Z",
     "start_time": "2022-01-23T12:24:06.118845Z"
    }
   },
   "outputs": [
    {
     "data": {
      "text/plain": [
       "True"
      ]
     },
     "execution_count": 4,
     "metadata": {},
     "output_type": "execute_result"
    }
   ],
   "source": [
    "load_dotenv()  # take environment variables from .env."
   ]
  },
  {
   "cell_type": "markdown",
   "id": "a3083404-ca0b-4bda-83fe-e82a09685f7c",
   "metadata": {},
   "source": [
    "## load data"
   ]
  },
  {
   "cell_type": "code",
   "execution_count": 5,
   "id": "25f7efe5-e51f-4e02-89a4-49acf40a0c38",
   "metadata": {
    "ExecuteTime": {
     "end_time": "2022-01-23T12:24:06.165986Z",
     "start_time": "2022-01-23T12:24:06.144304Z"
    }
   },
   "outputs": [],
   "source": [
    "API_KEY = os.getenv(\"API_KEY\")\n",
    "# print(f\"using {API_KEY=} for api\")"
   ]
  },
  {
   "cell_type": "code",
   "execution_count": 6,
   "id": "1f11bab4-e9cb-4486-a485-6f7219aaab94",
   "metadata": {
    "ExecuteTime": {
     "end_time": "2022-01-23T12:24:06.189983Z",
     "start_time": "2022-01-23T12:24:06.167957Z"
    }
   },
   "outputs": [],
   "source": [
    "# Setup client\n",
    "finnhub_client = finnhub.Client(api_key=API_KEY)"
   ]
  },
  {
   "cell_type": "code",
   "execution_count": 7,
   "id": "a4192c75-89ac-4340-a421-176db0b58789",
   "metadata": {
    "ExecuteTime": {
     "end_time": "2022-01-23T12:24:06.213284Z",
     "start_time": "2022-01-23T12:24:06.191137Z"
    }
   },
   "outputs": [],
   "source": [
    "from_date = pd.to_datetime(\"2021-11-01\")\n",
    "to_date = pd.to_datetime(\"2021-11-05\")\n",
    "symbol = 'AAPL'"
   ]
  },
  {
   "cell_type": "code",
   "execution_count": 8,
   "id": "e23d3569-4d7e-44da-b4d1-8fb6775e0084",
   "metadata": {
    "ExecuteTime": {
     "end_time": "2022-01-23T12:24:06.236982Z",
     "start_time": "2022-01-23T12:24:06.214579Z"
    }
   },
   "outputs": [
    {
     "name": "stdout",
     "output_type": "stream",
     "text": [
      "loading date from_date=Timestamp('2021-11-01 00:00:00') to_date=Timestamp('2021-11-05 00:00:00')\n"
     ]
    }
   ],
   "source": [
    "print(f\"loading date {from_date=} {to_date=}\")"
   ]
  },
  {
   "cell_type": "code",
   "execution_count": 9,
   "id": "77f1826b",
   "metadata": {
    "ExecuteTime": {
     "end_time": "2022-01-23T12:24:06.259840Z",
     "start_time": "2022-01-23T12:24:06.238740Z"
    }
   },
   "outputs": [],
   "source": [
    "symbols = ['AAPL', 'MSFT', 'HPQ', 'WMT']"
   ]
  },
  {
   "cell_type": "code",
   "execution_count": 10,
   "id": "61f3337e",
   "metadata": {
    "ExecuteTime": {
     "end_time": "2022-01-23T12:24:08.159468Z",
     "start_time": "2022-01-23T12:24:06.263594Z"
    }
   },
   "outputs": [],
   "source": [
    "results = []\n",
    "for symbol in symbols:\n",
    "    res = finnhub_client.stock_candles(\n",
    "        symbol, 1, int(from_date.timestamp()), int(to_date.timestamp())\n",
    "    )\n",
    "    res['symbol'] = symbol\n",
    "    results.append(res)"
   ]
  },
  {
   "cell_type": "code",
   "execution_count": 11,
   "id": "610d4b9f",
   "metadata": {
    "ExecuteTime": {
     "end_time": "2022-01-23T12:24:08.203756Z",
     "start_time": "2022-01-23T12:24:08.161643Z"
    }
   },
   "outputs": [],
   "source": [
    "df = pd.DataFrame()\n",
    "for res in results:\n",
    "    df = pd.concat([df, pd.DataFrame(res)])"
   ]
  },
  {
   "cell_type": "code",
   "execution_count": 12,
   "id": "edf596b1-dc68-464a-a75a-edd6d28f7e1f",
   "metadata": {
    "ExecuteTime": {
     "end_time": "2022-01-23T12:24:08.229592Z",
     "start_time": "2022-01-23T12:24:08.205526Z"
    }
   },
   "outputs": [],
   "source": [
    "df['timestamp'] = pd.to_datetime(df['t'], unit='s')"
   ]
  },
  {
   "cell_type": "code",
   "execution_count": 13,
   "id": "fc3a5c98-0927-4899-8782-2b913f119fc6",
   "metadata": {
    "ExecuteTime": {
     "end_time": "2022-01-23T12:24:08.262727Z",
     "start_time": "2022-01-23T12:24:08.231712Z"
    }
   },
   "outputs": [
    {
     "data": {
      "text/html": [
       "<div>\n",
       "<style scoped>\n",
       "    .dataframe tbody tr th:only-of-type {\n",
       "        vertical-align: middle;\n",
       "    }\n",
       "\n",
       "    .dataframe tbody tr th {\n",
       "        vertical-align: top;\n",
       "    }\n",
       "\n",
       "    .dataframe thead th {\n",
       "        text-align: right;\n",
       "    }\n",
       "</style>\n",
       "<table border=\"1\" class=\"dataframe\">\n",
       "  <thead>\n",
       "    <tr style=\"text-align: right;\">\n",
       "      <th></th>\n",
       "      <th>c</th>\n",
       "      <th>h</th>\n",
       "      <th>l</th>\n",
       "      <th>o</th>\n",
       "      <th>s</th>\n",
       "      <th>t</th>\n",
       "      <th>v</th>\n",
       "      <th>symbol</th>\n",
       "      <th>timestamp</th>\n",
       "    </tr>\n",
       "  </thead>\n",
       "  <tbody>\n",
       "    <tr>\n",
       "      <th>0</th>\n",
       "      <td>150.15</td>\n",
       "      <td>150.15</td>\n",
       "      <td>149.95</td>\n",
       "      <td>149.95</td>\n",
       "      <td>ok</td>\n",
       "      <td>1635753600</td>\n",
       "      <td>2289</td>\n",
       "      <td>AAPL</td>\n",
       "      <td>2021-11-01 08:00:00</td>\n",
       "    </tr>\n",
       "    <tr>\n",
       "      <th>1</th>\n",
       "      <td>150.00</td>\n",
       "      <td>150.00</td>\n",
       "      <td>150.00</td>\n",
       "      <td>150.00</td>\n",
       "      <td>ok</td>\n",
       "      <td>1635753660</td>\n",
       "      <td>747</td>\n",
       "      <td>AAPL</td>\n",
       "      <td>2021-11-01 08:01:00</td>\n",
       "    </tr>\n",
       "    <tr>\n",
       "      <th>2</th>\n",
       "      <td>149.97</td>\n",
       "      <td>150.00</td>\n",
       "      <td>149.97</td>\n",
       "      <td>149.98</td>\n",
       "      <td>ok</td>\n",
       "      <td>1635753720</td>\n",
       "      <td>900</td>\n",
       "      <td>AAPL</td>\n",
       "      <td>2021-11-01 08:02:00</td>\n",
       "    </tr>\n",
       "    <tr>\n",
       "      <th>3</th>\n",
       "      <td>150.00</td>\n",
       "      <td>150.03</td>\n",
       "      <td>150.00</td>\n",
       "      <td>150.00</td>\n",
       "      <td>ok</td>\n",
       "      <td>1635753780</td>\n",
       "      <td>2771</td>\n",
       "      <td>AAPL</td>\n",
       "      <td>2021-11-01 08:03:00</td>\n",
       "    </tr>\n",
       "    <tr>\n",
       "      <th>4</th>\n",
       "      <td>149.95</td>\n",
       "      <td>150.00</td>\n",
       "      <td>149.95</td>\n",
       "      <td>150.00</td>\n",
       "      <td>ok</td>\n",
       "      <td>1635753840</td>\n",
       "      <td>1961</td>\n",
       "      <td>AAPL</td>\n",
       "      <td>2021-11-01 08:04:00</td>\n",
       "    </tr>\n",
       "  </tbody>\n",
       "</table>\n",
       "</div>"
      ],
      "text/plain": [
       "        c       h       l       o   s           t     v symbol  \\\n",
       "0  150.15  150.15  149.95  149.95  ok  1635753600  2289   AAPL   \n",
       "1  150.00  150.00  150.00  150.00  ok  1635753660   747   AAPL   \n",
       "2  149.97  150.00  149.97  149.98  ok  1635753720   900   AAPL   \n",
       "3  150.00  150.03  150.00  150.00  ok  1635753780  2771   AAPL   \n",
       "4  149.95  150.00  149.95  150.00  ok  1635753840  1961   AAPL   \n",
       "\n",
       "            timestamp  \n",
       "0 2021-11-01 08:00:00  \n",
       "1 2021-11-01 08:01:00  \n",
       "2 2021-11-01 08:02:00  \n",
       "3 2021-11-01 08:03:00  \n",
       "4 2021-11-01 08:04:00  "
      ]
     },
     "execution_count": 13,
     "metadata": {},
     "output_type": "execute_result"
    }
   ],
   "source": [
    "df.head()"
   ]
  },
  {
   "cell_type": "code",
   "execution_count": 14,
   "id": "78e86837",
   "metadata": {
    "ExecuteTime": {
     "end_time": "2022-01-23T12:24:08.343019Z",
     "start_time": "2022-01-23T12:24:08.264366Z"
    }
   },
   "outputs": [],
   "source": [
    "df.to_csv('stocks.csv', index=False)"
   ]
  },
  {
   "cell_type": "code",
   "execution_count": 24,
   "id": "af1b7516",
   "metadata": {
    "ExecuteTime": {
     "end_time": "2022-01-23T12:25:06.156702Z",
     "start_time": "2022-01-23T12:25:06.081792Z"
    }
   },
   "outputs": [],
   "source": [
    "?pd.read_csv"
   ]
  },
  {
   "cell_type": "code",
   "execution_count": 28,
   "id": "e0850eca",
   "metadata": {
    "ExecuteTime": {
     "end_time": "2022-01-23T12:26:04.237021Z",
     "start_time": "2022-01-23T12:26:04.196295Z"
    }
   },
   "outputs": [],
   "source": [
    "df = pd.read_csv('stocks.csv')\n",
    "df['timestamp'] = df['timestamp'].astype('datetime64[ns]')"
   ]
  },
  {
   "cell_type": "code",
   "execution_count": 31,
   "id": "a9c92195",
   "metadata": {
    "ExecuteTime": {
     "end_time": "2022-01-23T12:26:12.508920Z",
     "start_time": "2022-01-23T12:26:12.484012Z"
    }
   },
   "outputs": [],
   "source": [
    "symbol = 'AAPL'"
   ]
  },
  {
   "cell_type": "code",
   "execution_count": 34,
   "id": "6d69a19e-c1b6-4f77-9727-00debda34426",
   "metadata": {
    "ExecuteTime": {
     "end_time": "2022-01-23T12:26:15.909310Z",
     "start_time": "2022-01-23T12:26:15.586140Z"
    }
   },
   "outputs": [
    {
     "data": {
      "image/png": "[encoded data removed]",
      "text/plain": [
       "<Figure size 1152x576 with 1 Axes>"
      ]
     },
     "metadata": {
      "needs_background": "light"
     },
     "output_type": "display_data"
    }
   ],
   "source": [
    "fig, axs = plt.subplots(figsize=(16, 8))\n",
    "plt.title(symbol)\n",
    "sns.lineplot(x='timestamp', y='c', data=df[df.symbol == symbol]);"
   ]
  },
  {
   "cell_type": "markdown",
   "id": "ca27feab-08ba-4fef-a1c5-9db8582f4052",
   "metadata": {},
   "source": [
    "## market"
   ]
  },
  {
   "cell_type": "code",
   "execution_count": 166,
   "id": "96347f48-4d98-4dc1-a5fc-6de15a98e6a2",
   "metadata": {
    "ExecuteTime": {
     "end_time": "2022-01-23T12:46:50.240383Z",
     "start_time": "2022-01-23T12:46:50.171711Z"
    }
   },
   "outputs": [],
   "source": [
    "from Agent import Agent"
   ]
  },
  {
   "cell_type": "code",
   "execution_count": 167,
   "id": "8fac2ca9-5d5f-42bc-a9df-dba5bc0daf62",
   "metadata": {
    "ExecuteTime": {
     "end_time": "2022-01-23T12:46:50.341658Z",
     "start_time": "2022-01-23T12:46:50.318642Z"
    }
   },
   "outputs": [],
   "source": [
    "p_1 = 1"
   ]
  },
  {
   "cell_type": "code",
   "execution_count": 168,
   "id": "7d664d23-7b91-4882-8e83-107ee217a68a",
   "metadata": {
    "ExecuteTime": {
     "end_time": "2022-01-23T12:46:50.501132Z",
     "start_time": "2022-01-23T12:46:50.480341Z"
    }
   },
   "outputs": [],
   "source": [
    "a = Agent(b=0.5, alpha=10, a_1=p_1)"
   ]
  },
  {
   "cell_type": "code",
   "execution_count": 169,
   "id": "7edf06d4-0b7a-435c-930e-9aa74106fccf",
   "metadata": {
    "ExecuteTime": {
     "end_time": "2022-01-23T12:46:50.640087Z",
     "start_time": "2022-01-23T12:46:50.618923Z"
    }
   },
   "outputs": [],
   "source": [
    "a.limit_order(p_current=1.5, p_next=4)"
   ]
  },
  {
   "cell_type": "code",
   "execution_count": 170,
   "id": "99f2a1f2-ac9e-41d2-9b74-e2cda6db6d8b",
   "metadata": {
    "ExecuteTime": {
     "end_time": "2022-01-23T12:46:50.796081Z",
     "start_time": "2022-01-23T12:46:50.769973Z"
    }
   },
   "outputs": [
    {
     "data": {
      "text/plain": [
       "-260"
      ]
     },
     "execution_count": 170,
     "metadata": {},
     "output_type": "execute_result"
    }
   ],
   "source": [
    "a.inventory"
   ]
  },
  {
   "cell_type": "code",
   "execution_count": 171,
   "id": "4b43ce9a-9fa8-42a1-a801-48806cb7f2ea",
   "metadata": {
    "ExecuteTime": {
     "end_time": "2022-01-23T12:46:50.941903Z",
     "start_time": "2022-01-23T12:46:50.919733Z"
    }
   },
   "outputs": [
    {
     "data": {
      "text/plain": [
       "715.0"
      ]
     },
     "execution_count": 171,
     "metadata": {},
     "output_type": "execute_result"
    }
   ],
   "source": [
    "a.cash"
   ]
  },
  {
   "cell_type": "markdown",
   "id": "f52eb891",
   "metadata": {},
   "source": [
    "## meta algorithm"
   ]
  },
  {
   "cell_type": "markdown",
   "id": "4fe4bece",
   "metadata": {},
   "source": [
    "MMMW, MMFPL, simple Follow-The-Leader2 (FTL), and simple uniform averaging over all strategies"
   ]
  },
  {
   "cell_type": "code",
   "execution_count": 172,
   "id": "d477cf62",
   "metadata": {
    "ExecuteTime": {
     "end_time": "2022-01-23T12:46:51.711114Z",
     "start_time": "2022-01-23T12:46:51.683114Z"
    }
   },
   "outputs": [],
   "source": [
    "Beta = np.array([1, 2, 3, 4, 5, 10, 20, 40, 80, 100]) / 100 # in dollars, not in cents\n",
    "N = len(Beta)\n",
    "B = np.max(Beta)\n",
    "ALPHA = 1"
   ]
  },
  {
   "cell_type": "code",
   "execution_count": 173,
   "id": "fead820d",
   "metadata": {
    "ExecuteTime": {
     "end_time": "2022-01-23T12:46:51.963689Z",
     "start_time": "2022-01-23T12:46:51.942519Z"
    }
   },
   "outputs": [],
   "source": [
    "agent_to_beta = {i: b for i, b in enumerate(Beta)}\n",
    "beta_to_agent = {b: i for i, b in enumerate(Beta)}"
   ]
  },
  {
   "cell_type": "code",
   "execution_count": 174,
   "id": "c688db4e",
   "metadata": {
    "ExecuteTime": {
     "end_time": "2022-01-23T12:46:52.117577Z",
     "start_time": "2022-01-23T12:46:52.094753Z"
    }
   },
   "outputs": [
    {
     "data": {
      "text/plain": [
       "306.40000000000003"
      ]
     },
     "execution_count": 174,
     "metadata": {},
     "output_type": "execute_result"
    }
   ],
   "source": [
    "df['c'].diff().abs().max()"
   ]
  },
  {
   "cell_type": "code",
   "execution_count": 175,
   "id": "6af2d743",
   "metadata": {
    "ExecuteTime": {
     "end_time": "2022-01-23T12:46:52.264310Z",
     "start_time": "2022-01-23T12:46:52.242676Z"
    }
   },
   "outputs": [],
   "source": [
    "max_value_diff = 1  # constant for now"
   ]
  },
  {
   "cell_type": "markdown",
   "id": "e71bc39c",
   "metadata": {},
   "source": [
    "### MMMW"
   ]
  },
  {
   "cell_type": "code",
   "execution_count": 176,
   "id": "dfde644d",
   "metadata": {
    "ExecuteTime": {
     "end_time": "2022-01-23T12:46:55.123942Z",
     "start_time": "2022-01-23T12:46:55.096382Z"
    }
   },
   "outputs": [],
   "source": [
    "def update_weights(weights_prev, eta, values_prev, values_current):\n",
    "    weights_new = weights_prev * np.exp(eta * (values_current - values_prev))\n",
    "    weights_new = weights_new / np.sum(weights_new)  # normalization Z_t\n",
    "    return weights_new"
   ]
  },
  {
   "cell_type": "code",
   "execution_count": 177,
   "id": "d6c72cd3",
   "metadata": {
    "ExecuteTime": {
     "end_time": "2022-01-23T12:46:55.276667Z",
     "start_time": "2022-01-23T12:46:55.256164Z"
    }
   },
   "outputs": [],
   "source": [
    "def get_values(agents, p):\n",
    "    return np.array([a.value(p) for a in agents])"
   ]
  },
  {
   "cell_type": "code",
   "execution_count": 178,
   "id": "577f2fed",
   "metadata": {
    "ExecuteTime": {
     "end_time": "2022-01-23T12:46:55.451320Z",
     "start_time": "2022-01-23T12:46:55.431133Z"
    }
   },
   "outputs": [],
   "source": [
    "def eta(t):\n",
    "    return np.sqrt(np.log(N) / t)"
   ]
  },
  {
   "cell_type": "code",
   "execution_count": 179,
   "id": "13798794",
   "metadata": {
    "ExecuteTime": {
     "end_time": "2022-01-23T12:46:55.593263Z",
     "start_time": "2022-01-23T12:46:55.569604Z"
    }
   },
   "outputs": [],
   "source": [
    "def market_order(X, p_current):\n",
    "    # X>0 => buying\n",
    "    # X<0 => selling\n",
    "    cash_diff = -X * p_current\n",
    "    inventory_diff = X\n",
    "    return cash_diff, inventory_diff"
   ]
  },
  {
   "cell_type": "code",
   "execution_count": 180,
   "id": "2d49ce2c",
   "metadata": {
    "ExecuteTime": {
     "end_time": "2022-01-23T12:46:55.747868Z",
     "start_time": "2022-01-23T12:46:55.719817Z"
    }
   },
   "outputs": [],
   "source": [
    "symbol = 'AAPL'\n",
    "df_symbol = df[df.symbol == symbol]\n",
    "day = df_symbol['timestamp'].dt.date.unique()[0]\n",
    "df_day = df_symbol[df_symbol['timestamp'].dt.date == day]"
   ]
  },
  {
   "cell_type": "code",
   "execution_count": 181,
   "id": "5702a262",
   "metadata": {
    "ExecuteTime": {
     "end_time": "2022-01-23T12:46:55.879207Z",
     "start_time": "2022-01-23T12:46:55.856775Z"
    }
   },
   "outputs": [
    {
     "data": {
      "text/plain": [
       "array([0.1, 0.1, 0.1, 0.1, 0.1, 0.1, 0.1, 0.1, 0.1, 0.1])"
      ]
     },
     "execution_count": 181,
     "metadata": {},
     "output_type": "execute_result"
    }
   ],
   "source": [
    "weights = np.array([1/N]*N)\n",
    "weights"
   ]
  },
  {
   "cell_type": "code",
   "execution_count": 182,
   "id": "96a18870",
   "metadata": {
    "ExecuteTime": {
     "end_time": "2022-01-23T12:46:56.015647Z",
     "start_time": "2022-01-23T12:46:55.994576Z"
    }
   },
   "outputs": [],
   "source": [
    "p_1 = df_day['c'].iloc[0]"
   ]
  },
  {
   "cell_type": "code",
   "execution_count": 183,
   "id": "a5f31c5d",
   "metadata": {
    "ExecuteTime": {
     "end_time": "2022-01-23T12:46:56.203727Z",
     "start_time": "2022-01-23T12:46:56.181822Z"
    }
   },
   "outputs": [],
   "source": [
    "agents = [Agent(b=b, alpha=ALPHA, a_1=p_1) for b in Beta]"
   ]
  },
  {
   "cell_type": "code",
   "execution_count": 148,
   "id": "6be74375",
   "metadata": {
    "ExecuteTime": {
     "end_time": "2022-01-23T12:39:24.090821Z",
     "start_time": "2022-01-23T12:39:23.780789Z"
    }
   },
   "outputs": [],
   "source": [
    "w = []  # weights at each step\n",
    "values = []  # value at each step\n",
    "\n",
    "G_t = 0\n",
    "for t in range(1, len(df_day)-1):\n",
    "    p_current = df_day.iloc[t]['c']\n",
    "    p_next = df_day.iloc[t+1]['c']\n",
    "\n",
    "    current_values = get_values(agents, p_current)\n",
    "    for a in agents:\n",
    "        a.limit_order(p_current, p_next)\n",
    "    next_values = get_values(agents, p_next)\n",
    "    \n",
    "    eta_current = eta(t)\n",
    "    diffs = current_values.reshape(1, -1) - current_values.reshape(-1, 1)  \n",
    "    diffs = np.abs(diffs)\n",
    "    G_t = max(np.max(diffs), G_t)\n",
    "    \n",
    "    eta_current = min(eta_current, G_t)\n",
    "    \n",
    "    w.append(weights)\n",
    "    values.append(current_values)\n",
    "    \n",
    "    weights = update_weights(weights, eta_current, current_values, next_values)"
   ]
  },
  {
   "cell_type": "code",
   "execution_count": 149,
   "id": "af0e2deb",
   "metadata": {
    "ExecuteTime": {
     "end_time": "2022-01-23T12:39:24.474339Z",
     "start_time": "2022-01-23T12:39:24.430799Z"
    }
   },
   "outputs": [],
   "source": [
    "tmp = pd.DataFrame(w).add_prefix('agent_')\n",
    "tmp['T'] = tmp.index\n",
    "tmp = pd.wide_to_long(tmp, ['agent_'], i='T', j='agent').reset_index().rename(columns={'agent_': 'weight'})\n",
    "tmp['agent'] = tmp['agent'].astype(str)"
   ]
  },
  {
   "cell_type": "code",
   "execution_count": 150,
   "id": "c3a4c912",
   "metadata": {
    "ExecuteTime": {
     "end_time": "2022-01-23T12:39:24.845590Z",
     "start_time": "2022-01-23T12:39:24.820078Z"
    }
   },
   "outputs": [
    {
     "data": {
      "text/html": [
       "<div>\n",
       "<style scoped>\n",
       "    .dataframe tbody tr th:only-of-type {\n",
       "        vertical-align: middle;\n",
       "    }\n",
       "\n",
       "    .dataframe tbody tr th {\n",
       "        vertical-align: top;\n",
       "    }\n",
       "\n",
       "    .dataframe thead th {\n",
       "        text-align: right;\n",
       "    }\n",
       "</style>\n",
       "<table border=\"1\" class=\"dataframe\">\n",
       "  <thead>\n",
       "    <tr style=\"text-align: right;\">\n",
       "      <th></th>\n",
       "      <th>T</th>\n",
       "      <th>agent</th>\n",
       "      <th>weight</th>\n",
       "    </tr>\n",
       "  </thead>\n",
       "  <tbody>\n",
       "    <tr>\n",
       "      <th>0</th>\n",
       "      <td>0</td>\n",
       "      <td>0</td>\n",
       "      <td>0.049529</td>\n",
       "    </tr>\n",
       "    <tr>\n",
       "      <th>1</th>\n",
       "      <td>1</td>\n",
       "      <td>0</td>\n",
       "      <td>0.049529</td>\n",
       "    </tr>\n",
       "    <tr>\n",
       "      <th>2</th>\n",
       "      <td>2</td>\n",
       "      <td>0</td>\n",
       "      <td>0.049529</td>\n",
       "    </tr>\n",
       "    <tr>\n",
       "      <th>3</th>\n",
       "      <td>3</td>\n",
       "      <td>0</td>\n",
       "      <td>0.049826</td>\n",
       "    </tr>\n",
       "    <tr>\n",
       "      <th>4</th>\n",
       "      <td>4</td>\n",
       "      <td>0</td>\n",
       "      <td>0.050635</td>\n",
       "    </tr>\n",
       "  </tbody>\n",
       "</table>\n",
       "</div>"
      ],
      "text/plain": [
       "   T agent    weight\n",
       "0  0     0  0.049529\n",
       "1  1     0  0.049529\n",
       "2  2     0  0.049529\n",
       "3  3     0  0.049826\n",
       "4  4     0  0.050635"
      ]
     },
     "execution_count": 150,
     "metadata": {},
     "output_type": "execute_result"
    }
   ],
   "source": [
    "tmp.head()"
   ]
  },
  {
   "cell_type": "code",
   "execution_count": 151,
   "id": "07b28db3",
   "metadata": {
    "ExecuteTime": {
     "end_time": "2022-01-23T12:39:26.863949Z",
     "start_time": "2022-01-23T12:39:26.371837Z"
    }
   },
   "outputs": [
    {
     "data": {
      "image/png": "[encoded data removed]",
      "text/plain": [
       "<Figure size 864x432 with 1 Axes>"
      ]
     },
     "metadata": {
      "needs_background": "light"
     },
     "output_type": "display_data"
    }
   ],
   "source": [
    "fig, axs= plt.subplots(figsize=(12, 6))\n",
    "sns.lineplot(x='T', y='weight', hue='agent', data=tmp);"
   ]
  },
  {
   "cell_type": "code",
   "execution_count": null,
   "id": "df6390dd",
   "metadata": {},
   "outputs": [],
   "source": []
  },
  {
   "cell_type": "code",
   "execution_count": null,
   "id": "6f53f9ee",
   "metadata": {},
   "outputs": [],
   "source": []
  }
 ],
 "metadata": {
  "kernelspec": {
   "display_name": "Python 3 (ipykernel)",
   "language": "python",
   "name": "python3"
  },
  "language_info": {
   "codemirror_mode": {
    "name": "ipython",
    "version": 3
   },
   "file_extension": ".py",
   "mimetype": "text/x-python",
   "name": "python",
   "nbconvert_exporter": "python",
   "pygments_lexer": "ipython3",
   "version": "3.8.6"
  },
  "toc": {
   "base_numbering": 1,
   "nav_menu": {},
   "number_sections": true,
   "sideBar": true,
   "skip_h1_title": true,
   "title_cell": "Table of Contents",
   "title_sidebar": "Contents",
   "toc_cell": true,
   "toc_position": {
    "height": "calc(100% - 180px)",
    "left": "10px",
    "top": "150px",
    "width": "384px"
   },
   "toc_section_display": true,
   "toc_window_display": true
  }
 },
 "nbformat": 4,
 "nbformat_minor": 5
}
