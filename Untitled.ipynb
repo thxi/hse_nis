{
 "cells": [
  {
   "cell_type": "markdown",
   "id": "852f1da5",
   "metadata": {
    "toc": true
   },
   "source": [
    "<h1>Table of Contents<span class=\"tocSkip\"></span></h1>\n",
    "<div class=\"toc\"><ul class=\"toc-item\"></ul></div>"
   ]
  },
  {
   "cell_type": "code",
   "execution_count": 12,
   "id": "9af03f43",
   "metadata": {
    "ExecuteTime": {
     "end_time": "2021-11-20T09:14:44.452019Z",
     "start_time": "2021-11-20T09:14:44.448166Z"
    }
   },
   "outputs": [],
   "source": [
    "import matplotlib.pyplot as plt\n",
    "import seaborn as sns\n",
    "import numpy as np\n",
    "import time\n",
    "from Exchange import Exchange\n",
    "from tqdm import tqdm\n",
    "from tqdm.contrib.logging import logging_redirect_tqdm"
   ]
  },
  {
   "cell_type": "code",
   "execution_count": 16,
   "id": "d0bff43b",
   "metadata": {
    "ExecuteTime": {
     "end_time": "2021-11-20T09:14:57.413856Z",
     "start_time": "2021-11-20T09:14:57.411025Z"
    }
   },
   "outputs": [],
   "source": [
    "LOG = False"
   ]
  },
  {
   "cell_type": "code",
   "execution_count": 34,
   "id": "53c55a7a",
   "metadata": {
    "ExecuteTime": {
     "end_time": "2021-11-20T09:15:39.031545Z",
     "start_time": "2021-11-20T09:15:39.026952Z"
    }
   },
   "outputs": [
    {
     "data": {
      "text/plain": [
       "'S'"
      ]
     },
     "execution_count": 34,
     "metadata": {},
     "output_type": "execute_result"
    }
   ],
   "source": []
  },
  {
   "cell_type": "code",
   "execution_count": 43,
   "id": "694f778f",
   "metadata": {
    "ExecuteTime": {
     "end_time": "2021-11-20T09:18:04.139655Z",
     "start_time": "2021-11-20T09:18:04.090768Z"
    }
   },
   "outputs": [
    {
     "name": "stderr",
     "output_type": "stream",
     "text": [
      "100%|████████████████████████████████████████████████████████████████████████████████████████████████████████████████████████████████████████████████████████| 300/300 [00:00<00:00, 7714.84it/s]"
     ]
    },
    {
     "name": "stdout",
     "output_type": "stream",
     "text": [
      "Adding order, side=B, price=109.52286930529375, size=69\n",
      "Adding order, side=B, price=102.10819723307132, size=117\n",
      "Adding order, side=S, price=98.20061300418217, size=13\n",
      "Adding order, side=B, price=104.13065802578305, size=122\n",
      "Adding order, side=S, price=98.79272546627426, size=147\n",
      "Adding order, side=B, price=93.49451737241641, size=56\n",
      "Adding order, side=B, price=97.58221728699486, size=56\n",
      "Adding order, side=B, price=100.79087965545963, size=43\n",
      "Adding order, side=B, price=108.9332817740319, size=96\n",
      "Adding order, side=B, price=92.93663580043186, size=95\n",
      "Adding order, side=B, price=87.9995960421859, size=54\n",
      "Adding order, side=S, price=97.0260651119473, size=125\n",
      "Adding order, side=S, price=98.9920348874223, size=114\n",
      "Adding order, side=B, price=101.99610975435952, size=115\n",
      "Adding order, side=B, price=101.0774952561317, size=169\n",
      "Adding order, side=B, price=102.8241861615035, size=101\n",
      "Adding order, side=S, price=100.88904930884821, size=18\n",
      "Adding order, side=B, price=95.55254860271661, size=198\n",
      "Adding order, side=B, price=94.54530150750547, size=44\n",
      "Adding order, side=S, price=97.79125212778874, size=67\n",
      "Adding order, side=S, price=99.45882666969565, size=102\n",
      "Adding order, side=S, price=105.85005034064203, size=150\n",
      "Adding order, side=S, price=93.6293110327391, size=197\n",
      "Adding order, side=B, price=106.97566005311931, size=81\n",
      "Adding order, side=B, price=93.8259411695871, size=177\n",
      "Adding order, side=S, price=93.81679118695237, size=183\n",
      "Adding order, side=B, price=99.41832271238138, size=99\n",
      "Adding order, side=S, price=103.63978045330785, size=153\n",
      "Adding order, side=B, price=102.4032495800362, size=8\n",
      "Adding order, side=B, price=98.74652593658013, size=74\n",
      "Adding order, side=S, price=101.8518245571146, size=123\n",
      "Adding order, side=B, price=103.94365581716713, size=28\n",
      "Adding order, side=S, price=101.79568034439176, size=117\n",
      "Adding order, side=B, price=98.15801300649825, size=119\n",
      "Adding order, side=B, price=98.97876302336805, size=16\n",
      "Adding order, side=S, price=98.44121123375554, size=35\n",
      "Adding order, side=S, price=98.53165380549699, size=40\n",
      "Adding order, side=S, price=102.20696441811481, size=127\n",
      "Adding order, side=S, price=99.44676416162352, size=139\n",
      "Adding order, side=S, price=93.783470131527, size=153\n",
      "Adding order, side=B, price=102.76286751946715, size=25\n",
      "Adding order, side=S, price=105.40435643856043, size=165\n",
      "Adding order, side=B, price=98.71639789815087, size=64\n",
      "Adding order, side=S, price=97.52823546927272, size=50\n",
      "Adding order, side=S, price=104.6528294359035, size=173\n",
      "Adding order, side=B, price=102.34215135644311, size=1\n",
      "Adding order, side=S, price=93.06399737008977, size=128\n",
      "Adding order, side=B, price=100.70968312016645, size=139\n",
      "Adding order, side=S, price=98.71627110058228, size=9\n",
      "Adding order, side=S, price=106.00260431807685, size=0\n",
      "Adding order, side=S, price=97.9732371766768, size=198\n",
      "Adding order, side=S, price=106.61752562456304, size=76\n",
      "Adding order, side=S, price=109.93673351142513, size=88\n",
      "Adding order, side=B, price=96.49248773298771, size=16\n",
      "Adding order, side=S, price=112.34950699538564, size=46\n",
      "Adding order, side=B, price=101.29011210193029, size=14\n",
      "Adding order, side=B, price=102.05007586336701, size=73\n",
      "Adding order, side=B, price=98.60293625354474, size=117\n",
      "Adding order, side=B, price=100.11013606697654, size=147\n",
      "Adding order, side=S, price=100.6621876935292, size=196\n",
      "Adding order, side=S, price=90.5705453322494, size=94\n",
      "Adding order, side=S, price=100.88628224850596, size=175\n",
      "Adding order, side=S, price=95.21108998666524, size=44\n",
      "Adding order, side=S, price=97.45108332909923, size=123\n",
      "Adding order, side=S, price=100.75789688677602, size=14\n",
      "Adding order, side=S, price=98.38922203338593, size=197\n",
      "Adding order, side=B, price=103.37774503580066, size=108\n",
      "Adding order, side=S, price=98.59922298598596, size=187\n",
      "Adding order, side=B, price=92.37822025008334, size=164\n",
      "Adding order, side=B, price=102.52519622349213, size=130\n",
      "Adding order, side=S, price=100.7430072853205, size=73\n",
      "Adding order, side=S, price=101.34800524564244, size=102\n",
      "Adding order, side=S, price=96.9718209127287, size=17\n",
      "Adding order, side=S, price=110.36197482032651, size=148\n",
      "Adding order, side=B, price=101.87466229439049, size=82\n",
      "Adding order, side=B, price=96.9137193301278, size=111\n",
      "Adding order, side=B, price=97.48385063001808, size=6\n",
      "Adding order, side=S, price=103.98467836245885, size=43\n",
      "Adding order, side=S, price=94.03935326165895, size=18\n",
      "Adding order, side=B, price=102.34737714246899, size=46\n",
      "Adding order, side=B, price=92.0997660628409, size=16\n",
      "Adding order, side=S, price=103.95437817684811, size=32\n",
      "Adding order, side=B, price=101.34827516991051, size=2\n",
      "Adding order, side=B, price=93.78837031745827, size=52\n",
      "Adding order, side=S, price=99.95925819197788, size=169\n",
      "Adding order, side=S, price=103.80028688686765, size=26\n",
      "Adding order, side=B, price=85.03391840662786, size=88\n",
      "Adding order, side=B, price=96.7816335990445, size=81\n",
      "Adding order, side=B, price=101.06199441121275, size=62\n",
      "Adding order, side=S, price=102.56258547748955, size=59\n",
      "Adding order, side=B, price=102.0720735898891, size=90\n",
      "Adding order, side=B, price=94.16447382670772, size=171\n",
      "Adding order, side=S, price=99.5516073924248, size=25\n",
      "Adding order, side=B, price=88.38565380874289, size=4\n",
      "Adding order, side=S, price=98.5839507718739, size=7\n",
      "Adding order, side=B, price=105.19027747327712, size=52\n",
      "Adding order, side=S, price=92.65100926314265, size=149\n",
      "Adding order, side=S, price=96.56832667976606, size=178\n",
      "Adding order, side=B, price=99.86300388880221, size=197\n",
      "Adding order, side=B, price=102.56581525082376, size=122\n",
      "Adding order, side=S, price=101.93154406020709, size=49\n",
      "Adding order, side=B, price=100.02781724192356, size=138\n",
      "Adding order, side=B, price=95.98400294873859, size=138\n",
      "Adding order, side=B, price=100.82363471434951, size=180\n",
      "Adding order, side=B, price=105.01384267090603, size=85\n",
      "Adding order, side=S, price=103.95437067800732, size=113\n",
      "Adding order, side=S, price=96.34197219896767, size=96\n",
      "Adding order, side=B, price=99.40128752462041, size=191\n",
      "Adding order, side=S, price=97.051385826933, size=168\n",
      "Adding order, side=B, price=100.7939483476649, size=188\n",
      "Adding order, side=S, price=102.40271958129053, size=53\n",
      "Adding order, side=B, price=90.63387077149432, size=91\n",
      "Adding order, side=S, price=89.1497815309623, size=41\n",
      "Adding order, side=S, price=102.76529795427774, size=140\n",
      "Adding order, side=S, price=105.37755639346324, size=107\n",
      "Adding order, side=B, price=109.98903718521504, size=175\n",
      "Adding order, side=S, price=107.01977487675914, size=89\n",
      "Adding order, side=S, price=100.96031751055295, size=185\n",
      "Adding order, side=B, price=102.08134551459922, size=128\n",
      "Adding order, side=S, price=98.29214783252787, size=91\n",
      "Adding order, side=S, price=102.37657111734605, size=121\n",
      "Adding order, side=B, price=98.65276523710129, size=14\n",
      "Adding order, side=S, price=96.14173245843102, size=198\n",
      "Adding order, side=S, price=100.89689147983282, size=92\n",
      "Adding order, side=B, price=100.86019798081963, size=166\n",
      "Adding order, side=B, price=104.32740663095309, size=159\n",
      "Adding order, side=B, price=101.00006786850467, size=26\n",
      "Adding order, side=B, price=98.9299943175734, size=183\n",
      "Adding order, side=S, price=105.24974127904296, size=189\n",
      "Adding order, side=B, price=98.50626796366436, size=61\n",
      "Adding order, side=S, price=90.40251517240961, size=178\n",
      "Adding order, side=S, price=96.13803841391864, size=104\n",
      "Adding order, side=S, price=94.19817685684849, size=25\n",
      "Adding order, side=S, price=102.66922105504877, size=35\n",
      "Adding order, side=S, price=88.93790272150767, size=11\n",
      "Adding order, side=B, price=90.70362492292412, size=2\n",
      "Adding order, side=B, price=96.4621836670778, size=1\n",
      "Adding order, side=B, price=103.81675341683766, size=164\n",
      "Adding order, side=B, price=96.1996341216592, size=90\n",
      "Adding order, side=S, price=88.6053233271271, size=199\n",
      "Adding order, side=B, price=103.06439793054527, size=146\n",
      "Adding order, side=B, price=92.17346077359294, size=91\n",
      "Adding order, side=S, price=98.77670879968198, size=94\n",
      "Adding order, side=B, price=107.18582337341138, size=71\n",
      "Adding order, side=S, price=94.89775491094443, size=66\n",
      "Adding order, side=S, price=98.74512398109795, size=163\n",
      "Adding order, side=B, price=104.67427159638424, size=70\n",
      "Adding order, side=S, price=101.2670787772301, size=41\n",
      "Adding order, side=S, price=102.88596380469049, size=34\n",
      "Adding order, side=S, price=100.57541414016947, size=175\n",
      "Adding order, side=B, price=101.38945206862351, size=67\n",
      "Adding order, side=S, price=93.13127109961347, size=191\n",
      "Adding order, side=S, price=113.03137620079886, size=84\n",
      "Adding order, side=S, price=94.84794090643442, size=0\n",
      "Adding order, side=S, price=105.59630919670577, size=183\n",
      "Adding order, side=B, price=102.84319508604113, size=67\n",
      "Adding order, side=B, price=104.39890065823073, size=155\n",
      "Adding order, side=S, price=103.16358968302445, size=88\n",
      "Adding order, side=S, price=102.23437328062879, size=175\n",
      "Adding order, side=S, price=97.25918912681453, size=69\n",
      "Adding order, side=S, price=98.89319882030655, size=102\n",
      "Adding order, side=S, price=97.50981834680715, size=78\n",
      "Adding order, side=S, price=98.14759640565691, size=114\n",
      "Adding order, side=S, price=98.59009141709474, size=24\n",
      "Adding order, side=B, price=104.50436368033183, size=79\n",
      "Adding order, side=S, price=103.78138142768162, size=88\n",
      "Adding order, side=S, price=101.4053243021818, size=160\n",
      "Adding order, side=S, price=101.42751190283221, size=158\n",
      "Adding order, side=S, price=96.61108817878132, size=29\n",
      "Adding order, side=B, price=103.77467797069059, size=13\n",
      "Adding order, side=S, price=94.50756104642089, size=86\n",
      "Adding order, side=B, price=101.1653264890474, size=116\n",
      "Adding order, side=S, price=105.00307178622514, size=94\n",
      "Adding order, side=B, price=102.60363228506026, size=46\n",
      "Adding order, side=S, price=101.53921189314273, size=4\n",
      "Adding order, side=S, price=102.52915102393024, size=138\n",
      "Adding order, side=B, price=109.3282477913773, size=16\n",
      "Adding order, side=B, price=105.93703082348165, size=125\n",
      "Adding order, side=S, price=96.63964726690789, size=146\n",
      "Adding order, side=S, price=90.25400604990587, size=159\n",
      "Adding order, side=S, price=100.17209240743865, size=191\n",
      "Adding order, side=S, price=96.1468198457723, size=122\n",
      "Adding order, side=S, price=96.37645502024985, size=193\n",
      "Adding order, side=S, price=91.3430634812953, size=167\n",
      "Adding order, side=S, price=94.41973444373302, size=101\n",
      "Adding order, side=S, price=93.23159498603093, size=59\n",
      "Adding order, side=S, price=97.8378117044441, size=189\n",
      "Adding order, side=B, price=106.0168493076367, size=121\n",
      "Adding order, side=S, price=102.55055933141692, size=55\n",
      "Adding order, side=S, price=94.46202249100641, size=114\n",
      "Adding order, side=B, price=103.26940260427237, size=111\n",
      "Adding order, side=S, price=96.68565530938861, size=198\n",
      "Adding order, side=S, price=95.81409285808002, size=13\n",
      "Adding order, side=S, price=97.23968450213334, size=13\n",
      "Adding order, side=S, price=107.7960908056405, size=17\n",
      "Adding order, side=S, price=103.17670710169597, size=172\n",
      "Adding order, side=S, price=98.2120244237068, size=87\n",
      "Adding order, side=S, price=104.00114791656685, size=111\n",
      "Adding order, side=S, price=99.42074135698208, size=120\n",
      "Adding order, side=B, price=104.82714516946986, size=1\n",
      "Adding order, side=S, price=101.1229289028927, size=79\n",
      "Adding order, side=S, price=104.72177097728678, size=141\n",
      "Adding order, side=B, price=99.69841991764868, size=85\n",
      "Adding order, side=B, price=102.77371801427147, size=88\n",
      "Adding order, side=S, price=97.06499953992648, size=115\n",
      "Adding order, side=B, price=99.72018450784918, size=84\n",
      "Adding order, side=S, price=99.79695909035965, size=101\n",
      "Adding order, side=S, price=100.28680437756294, size=84\n",
      "Adding order, side=B, price=102.48993939548494, size=146\n",
      "Adding order, side=S, price=99.7237716521429, size=98\n",
      "Adding order, side=S, price=87.36646193174512, size=138\n",
      "Adding order, side=B, price=102.24918408155978, size=38\n",
      "Adding order, side=S, price=96.99610634918027, size=145\n",
      "Adding order, side=S, price=98.05587461705974, size=86\n",
      "Adding order, side=S, price=99.19008058352081, size=12\n",
      "Adding order, side=S, price=95.33527732372077, size=178\n",
      "Adding order, side=B, price=105.92635085623526, size=59\n",
      "Adding order, side=S, price=91.42465752282926, size=79\n",
      "Adding order, side=S, price=96.93941985269835, size=191\n",
      "Adding order, side=S, price=96.12283892631103, size=121\n",
      "Adding order, side=B, price=93.29796036522299, size=21\n",
      "Adding order, side=S, price=101.36874734633422, size=135\n",
      "Adding order, side=S, price=102.6963845502309, size=164\n",
      "Adding order, side=B, price=102.26955105510825, size=14\n",
      "Adding order, side=B, price=99.05664517026133, size=46\n",
      "Adding order, side=B, price=102.00382612574421, size=156\n",
      "Adding order, side=S, price=108.270139402426, size=1\n",
      "Adding order, side=B, price=98.25272309178894, size=107\n",
      "Adding order, side=B, price=99.43326850214108, size=153\n",
      "Adding order, side=S, price=96.65829741312211, size=172\n",
      "Adding order, side=S, price=100.2206530231449, size=172\n",
      "Adding order, side=S, price=98.29278811595131, size=163\n",
      "Adding order, side=B, price=93.68284025963585, size=84\n",
      "Adding order, side=S, price=99.91576949340237, size=44\n",
      "Adding order, side=S, price=101.8033305313463, size=65\n",
      "Adding order, side=S, price=96.77472253964142, size=130\n",
      "Adding order, side=B, price=108.97525144179542, size=10\n",
      "Adding order, side=S, price=103.34781504159777, size=147\n",
      "Adding order, side=B, price=97.89151046021101, size=164\n",
      "Adding order, side=S, price=90.37600915028298, size=76\n",
      "Adding order, side=B, price=102.67014029435742, size=102\n",
      "Adding order, side=S, price=97.59421024212511, size=89\n",
      "Adding order, side=B, price=94.75416518927467, size=198\n",
      "Adding order, side=B, price=94.12114780114541, size=138\n",
      "Adding order, side=S, price=104.50438492099181, size=86\n",
      "Adding order, side=B, price=99.05613210559176, size=27\n",
      "Adding order, side=B, price=104.8686895876927, size=142\n",
      "Adding order, side=B, price=102.80965478255821, size=68\n",
      "Adding order, side=B, price=97.73806416117627, size=175\n",
      "Adding order, side=S, price=104.0161436358802, size=79\n",
      "Adding order, side=S, price=102.54567977074463, size=101\n",
      "Adding order, side=S, price=96.93740847987789, size=143\n",
      "Adding order, side=B, price=109.18323107420468, size=9\n",
      "Adding order, side=S, price=98.8700331470599, size=30\n",
      "Adding order, side=B, price=91.0515098329831, size=193\n",
      "Adding order, side=B, price=101.25555511085206, size=183\n",
      "Adding order, side=B, price=110.2257282909205, size=85\n",
      "Adding order, side=B, price=102.97141346325897, size=74\n",
      "Adding order, side=S, price=101.72810881766044, size=71\n",
      "Adding order, side=B, price=110.88158335785386, size=65\n",
      "Adding order, side=B, price=107.37107477428722, size=88\n",
      "Adding order, side=S, price=98.26167990247276, size=142\n",
      "Adding order, side=B, price=99.03459891169842, size=185\n",
      "Adding order, side=B, price=103.52994119080942, size=64\n",
      "Adding order, side=B, price=98.21075158637657, size=23\n",
      "Adding order, side=S, price=100.42291707561829, size=103\n",
      "Adding order, side=B, price=94.01658526216684, size=89\n",
      "Adding order, side=B, price=91.19807069933135, size=32\n",
      "Adding order, side=B, price=99.28544216895534, size=19\n",
      "Adding order, side=S, price=94.754187606415, size=144\n",
      "Adding order, side=B, price=94.30085140918163, size=111\n",
      "Adding order, side=B, price=99.2158905459732, size=77\n",
      "Adding order, side=B, price=96.89474504826472, size=72\n",
      "Adding order, side=B, price=90.92719318104513, size=164\n",
      "Adding order, side=B, price=103.63991293615472, size=69\n",
      "Adding order, side=B, price=93.5326388157122, size=65\n",
      "Adding order, side=B, price=95.43370457056788, size=163\n",
      "Adding order, side=S, price=93.89336671740841, size=86\n",
      "Adding order, side=B, price=100.61827694544631, size=197\n",
      "Adding order, side=S, price=98.57960947533003, size=31\n",
      "Adding order, side=B, price=98.97044825850509, size=140\n",
      "Adding order, side=B, price=108.23518935393649, size=149\n",
      "Adding order, side=B, price=97.19140841113607, size=185\n",
      "Adding order, side=S, price=94.5153189689521, size=150\n",
      "Adding order, side=B, price=95.84239879640435, size=6\n",
      "Adding order, side=S, price=103.4737048460951, size=157\n",
      "Adding order, side=B, price=110.5448231004056, size=142\n",
      "Adding order, side=S, price=98.40537633782426, size=16\n",
      "Adding order, side=S, price=92.8992905556359, size=47\n",
      "Adding order, side=B, price=103.74808532073243, size=93\n",
      "Adding order, side=S, price=110.81433173469811, size=116\n",
      "Adding order, side=B, price=104.97899855583714, size=103\n",
      "Adding order, side=B, price=103.1483546398932, size=20\n",
      "Adding order, side=S, price=101.2251185899155, size=29\n",
      "Adding order, side=B, price=100.46237358936773, size=28\n",
      "Adding order, side=B, price=105.88335726284498, size=139\n",
      "Adding order, side=B, price=95.68700033024476, size=128\n",
      "Adding order, side=S, price=95.8523031479689, size=10\n",
      "Adding order, side=S, price=105.11969209784218, size=53\n",
      "Adding order, side=B, price=99.36739842737896, size=131\n"
     ]
    },
    {
     "name": "stderr",
     "output_type": "stream",
     "text": [
      "\n"
     ]
    }
   ],
   "source": [
    "np.random.seed(228)\n",
    "\n",
    "start_price = 100.0\n",
    "exchange = Exchange(start_price)\n",
    "\n",
    "with logging_redirect_tqdm():\n",
    "    for _ in tqdm(range(300)):\n",
    "        side = np.random.choice(['B', 'S'], p=[0.5, 0.5])\n",
    "        price = np.random.normal(100, 5)\n",
    "        size = int(200 * np.random.random())\n",
    "        print(\n",
    "            \"Adding order, side={}, price={}, size={}\".format(\n",
    "                side, price, size\n",
    "            )\n",
    "        )            \n",
    "        exchange.addOrder(side, price, size)\n",
    "        exchange.prepareMatch()\n",
    "        exchange.matchOrders()\n",
    "        exchange.savePrices()\n",
    "        if LOG:\n",
    "            print(\"\\n Buys filled:\")\n",
    "            print(exchange.buys_filled)\n",
    "            print(\"\\n Sells filled:\")\n",
    "            print(exchange.sells_filled)\n",
    "            print(\"\\n\\n\\n\")\n",
    "            print(\"The buy book:\\n\")\n",
    "            print(exchange.buys_prices)\n",
    "            print(\"\\n\")\n",
    "            print(exchange.buys_info)\n",
    "            print(\"\\n\\n\")\n",
    "            print(\"The sell book:\\n\")\n",
    "            print(exchange.sells_prices)\n",
    "            print(\"\\n\")\n",
    "            print(exchange.sells_info)\n",
    "            print(\"\\n\\n\\n\")"
   ]
  },
  {
   "cell_type": "markdown",
   "id": "c3894f47",
   "metadata": {
    "ExecuteTime": {
     "end_time": "2021-11-20T09:18:04.290793Z",
     "start_time": "2021-11-20T09:18:04.287171Z"
    }
   },
   "source": [
    "Plot the resulting buy and sell order books. After the books have been\n",
    "balanced, there is no overlap."
   ]
  },
  {
   "cell_type": "code",
   "execution_count": 45,
   "id": "ff474c35",
   "metadata": {
    "ExecuteTime": {
     "end_time": "2021-11-20T09:18:04.826822Z",
     "start_time": "2021-11-20T09:18:04.700912Z"
    }
   },
   "outputs": [
    {
     "data": {
      "image/png": "[encoded data removed]",
      "text/plain": [
       "<Figure size 432x288 with 1 Axes>"
      ]
     },
     "metadata": {
      "needs_background": "light"
     },
     "output_type": "display_data"
    }
   ],
   "source": [
    "Buys = {-p: exchange.buys_info[-p][\"tot\"] for p in exchange.buys_prices}\n",
    "Sells = {p: exchange.sells_info[p][\"tot\"] for p in exchange.sells_prices}\n",
    "\n",
    "sns.distplot(\n",
    "    list(Buys.keys()),\n",
    "    hist_kws={\"weights\": list(Buys.values())},\n",
    "    kde=False,\n",
    "    label=\"buys\",\n",
    ")\n",
    "sns.distplot(\n",
    "    list(Sells.keys()),\n",
    "    hist_kws={\"weights\": list(Sells.values())},\n",
    "    kde=False,\n",
    "    label=\"sells\",\n",
    ")\n",
    "plt.legend(loc=\"upper right\")\n",
    "plt.title(\"Balanced buy/sell order books\")\n",
    "plt.show()"
   ]
  },
  {
   "cell_type": "markdown",
   "id": "066b4478",
   "metadata": {},
   "source": [
    "Plot the time series of the best bid and the best ask prices.\n",
    "Notice that the bid price is lower than the sell price, or equal to\n",
    "the sell price, the latter being the artifact of one or both of the\n",
    "buy and/or sell order books being completely filled."
   ]
  },
  {
   "cell_type": "code",
   "execution_count": 46,
   "id": "15e9167e",
   "metadata": {
    "ExecuteTime": {
     "end_time": "2021-11-20T09:18:06.323110Z",
     "start_time": "2021-11-20T09:18:06.202221Z"
    }
   },
   "outputs": [
    {
     "data": {
      "image/png": "[encoded data removed]",
      "text/plain": [
       "<Figure size 432x288 with 1 Axes>"
      ]
     },
     "metadata": {
      "needs_background": "light"
     },
     "output_type": "display_data"
    }
   ],
   "source": [
    "Bids = exchange.bids\n",
    "Asks = exchange.asks\n",
    "plt.plot(Bids, label=\"bid price\")\n",
    "plt.plot(Asks, label=\"ask price\")\n",
    "plt.title(\"bid/ask prices times series\")\n",
    "plt.legend(loc=\"upper right\")\n",
    "plt.show()"
   ]
  },
  {
   "cell_type": "code",
   "execution_count": 50,
   "id": "4918197c",
   "metadata": {
    "ExecuteTime": {
     "end_time": "2021-11-20T09:44:05.696713Z",
     "start_time": "2021-11-20T09:44:05.693745Z"
    }
   },
   "outputs": [],
   "source": [
    "from scipy import stats"
   ]
  },
  {
   "cell_type": "code",
   "execution_count": 52,
   "id": "0dcc3ddb",
   "metadata": {
    "ExecuteTime": {
     "end_time": "2021-11-20T09:47:44.843844Z",
     "start_time": "2021-11-20T09:47:44.838898Z"
    }
   },
   "outputs": [
    {
     "data": {
      "text/plain": [
       "(array([-0.99814888, -0.29119142,  0.29119142,  0.99814888]),\n",
       " array([1, 2, 3, 4]))"
      ]
     },
     "execution_count": 52,
     "metadata": {},
     "output_type": "execute_result"
    }
   ],
   "source": [
    "stats.probplot([1, 2, 3, 4])[0]"
   ]
  },
  {
   "cell_type": "code",
   "execution_count": null,
   "id": "e6088bf9",
   "metadata": {},
   "outputs": [],
   "source": []
  },
  {
   "cell_type": "code",
   "execution_count": 74,
   "id": "a730cb0a",
   "metadata": {
    "ExecuteTime": {
     "end_time": "2021-11-20T09:55:42.260991Z",
     "start_time": "2021-11-20T09:55:39.917144Z"
    }
   },
   "outputs": [
    {
     "name": "stderr",
     "output_type": "stream",
     "text": [
      "100%|████████████████████████████████████████████████████████████████████████████████████████████████████████████████████████████████████████████████████| 10000/10000 [00:02<00:00, 4616.02it/s]\n"
     ]
    },
    {
     "data": {
      "image/png": "[encoded data removed]",
      "text/plain": [
       "<Figure size 432x288 with 1 Axes>"
      ]
     },
     "metadata": {
      "needs_background": "light"
     },
     "output_type": "display_data"
    }
   ],
   "source": [
    "import matplotlib.pyplot as plt\n",
    "import scipy.stats as stats\n",
    "import numpy as np\n",
    "import time\n",
    "from Exchange import Exchange\n",
    "from tqdm import tqdm\n",
    "\n",
    "np.random.seed(228)\n",
    "\n",
    "\n",
    "class Agent:\n",
    "    def __init__(self, c, s):\n",
    "        self.cash = c\n",
    "        self.shares = s\n",
    "\n",
    "\n",
    "class Market:\n",
    "    def __init__(self, N, start_price):\n",
    "        self.N = N\n",
    "        self.start_price = start_price\n",
    "        self.participants = []\n",
    "        for _ in range(self.N):\n",
    "            a = Agent(\n",
    "                np.abs(np.random.normal(1000000.0, 10000.0)),\n",
    "                np.abs(int(np.random.normal(10000, 100))),\n",
    "            )\n",
    "            self.participants += [a]\n",
    "        self.prices = [self.start_price]\n",
    "        self.order_to_agent = {}\n",
    "\n",
    "    def tradingSession(self):\n",
    "        exchange = Exchange(self.prices[-1])\n",
    "        last_price = self.prices[-1]\n",
    "        self.order_to_agent = {}\n",
    "        for n in range(self.N):\n",
    "            if np.random.random() > 0.1:\n",
    "                continue\n",
    "            limit_price = np.abs(np.random.normal(1, 0.02) * last_price)\n",
    "            limit_price = int(100 * limit_price) / 100.0\n",
    "            side, size = \"N\", 0\n",
    "            if np.random.random() < 0.5:\n",
    "                side = \"S\"\n",
    "                size = int(np.random.random() * self.participants[n].shares)\n",
    "            else:\n",
    "                side = \"B\"\n",
    "                size = int(np.random.random() * self.participants[n].cash / limit_price)\n",
    "            order_id = exchange.addOrder(side, limit_price, size)\n",
    "            self.order_to_agent[order_id] = n\n",
    "            exchange.prepareMatch()\n",
    "            exchange.matchOrders()\n",
    "            exchange.savePrices()\n",
    "            buys_filled = exchange.buys_filled\n",
    "            sells_filled = exchange.sells_filled\n",
    "            for b_id, b_info in list(buys_filled.items()):\n",
    "                agent = self.order_to_agent[b_id]\n",
    "                for F in b_info:\n",
    "                    size, price = F[0], F[1]\n",
    "                    self.participants[agent].shares += size\n",
    "                    self.participants[agent].cash -= price * size\n",
    "            for s_id, s_info in list(sells_filled.items()):\n",
    "                agent = self.order_to_agent[s_id]\n",
    "                for F in s_info:\n",
    "                    size, price = F[0], F[1]\n",
    "                    self.participants[agent].shares -= size\n",
    "                    self.participants[agent].cash += price * size\n",
    "        price = (exchange.bids[-1] + exchange.asks[-1]) / 2.0\n",
    "        return price\n",
    "\n",
    "    def run(self, T):\n",
    "        for t in tqdm(range(T)):\n",
    "            price = self.tradingSession()\n",
    "            self.prices += [price]\n",
    "\n",
    "\n",
    "N = 100\n",
    "start_price = 100.0\n",
    "market = Market(N=N, start_price=start_price)\n",
    "NUM_SIMULATIONS = 10000\n",
    "market.run(NUM_SIMULATIONS)\n",
    "\n",
    "\"\"\"\n",
    "Plot the resulting stock price time series.\n",
    "\"\"\"\n",
    "\n",
    "prices = np.array(market.prices)\n",
    "# returns = (prices[1:] / prices[:-1]) - 1\n",
    "returns = np.log(prices[1:]) - np.log(prices[:-1])\n",
    "\n",
    "plt.plot(returns)\n",
    "plt.title(\"Stock price returns\")\n",
    "plt.ylabel(\"Ret\")\n",
    "plt.xlabel(\"time step h\")\n",
    "plt.show()\n",
    "\n",
    "\n",
    "\"\"\"\n",
    "Plot the resulting stock log returns time series.\n",
    "\"\"\"\n",
    "\n",
    "log_returns = [np.log(prices[i] / prices[i - 1]) for i in range(1, len(prices))]\n",
    "log_returns = (log_returns - np.mean(log_returns)) / np.std(log_returns)\n",
    "normq, realq = stats.probplot(log_returns, dist=\"norm\")[0]\n",
    "normq = normq[::-1]\n",
    "realq = realq[::-1]"
   ]
  },
  {
   "cell_type": "code",
   "execution_count": 75,
   "id": "2c738dc3",
   "metadata": {
    "ExecuteTime": {
     "end_time": "2021-11-20T09:55:42.287851Z",
     "start_time": "2021-11-20T09:55:42.283355Z"
    }
   },
   "outputs": [
    {
     "data": {
      "text/plain": [
       "array([ 4.6528396 ,  3.84088662,  3.79901743, ..., -3.57857483,\n",
       "       -3.65737227, -3.93682262])"
      ]
     },
     "execution_count": 75,
     "metadata": {},
     "output_type": "execute_result"
    }
   ],
   "source": [
    "realq"
   ]
  },
  {
   "cell_type": "code",
   "execution_count": null,
   "id": "c972270c",
   "metadata": {
    "ExecuteTime": {
     "start_time": "2021-11-20T10:11:03.802Z"
    }
   },
   "outputs": [
    {
     "name": "stdout",
     "output_type": "stream",
     "text": [
      "10000\n",
      "10000\n",
      "10000\n"
     ]
    }
   ],
   "source": [
    "r = list(range(len(normq)))\n",
    "print(len(r))\n",
    "print(len(normq))\n",
    "print(len(realq))\n",
    "plt.plot(r, normq, label=\"N(0, 1)\", color=\"black\", lw=0.1)\n",
    "plt.scatter(r, realq, label=\"Ret\", color=\"black\", s=0.1)\n",
    "plt.yscale(\"log\")\n",
    "plt.ylim((10 ** (-3), 10))\n",
    "plt.ylabel(\"P > Ret(|Ret|)\")\n",
    "plt.xlabel(\"|Ret|\")\n",
    "plt.xlim((-0.05, 5100))\n",
    "labels = ['$10^{-1}$', '0', '$10^1$']\n",
    "plt.xticks([0, 2500, 5000], labels)\n",
    "labels = ['$10^{-4}$', '$10^{-3}$', '$10^{-2}$', '$10^{-1}$', '$10^{0}$']\n",
    "plt.yticks([1e-3, 10**(-2), 10**(-1.1), 10**(-0.1), 10], labels)\n",
    "plt.legend()\n",
    "plt.title(\"Normal Q-Q plot\")\n",
    "plt.show()"
   ]
  },
  {
   "cell_type": "code",
   "execution_count": null,
   "id": "26ebefdf",
   "metadata": {},
   "outputs": [],
   "source": []
  },
  {
   "cell_type": "code",
   "execution_count": null,
   "id": "96e79cca",
   "metadata": {},
   "outputs": [],
   "source": []
  },
  {
   "cell_type": "code",
   "execution_count": null,
   "id": "cf6666dc",
   "metadata": {},
   "outputs": [],
   "source": []
  }
 ],
 "metadata": {
  "kernelspec": {
   "display_name": "Python 3 (ipykernel)",
   "language": "python",
   "name": "python3"
  },
  "language_info": {
   "codemirror_mode": {
    "name": "ipython",
    "version": 3
   },
   "file_extension": ".py",
   "mimetype": "text/x-python",
   "name": "python",
   "nbconvert_exporter": "python",
   "pygments_lexer": "ipython3",
   "version": "3.8.6"
  },
  "toc": {
   "base_numbering": 1,
   "nav_menu": {},
   "number_sections": true,
   "sideBar": true,
   "skip_h1_title": true,
   "title_cell": "Table of Contents",
   "title_sidebar": "Contents",
   "toc_cell": true,
   "toc_position": {},
   "toc_section_display": true,
   "toc_window_display": true
  },
  "varInspector": {
   "cols": {
    "lenName": 16,
    "lenType": 16,
    "lenVar": 40
   },
   "kernels_config": {
    "python": {
     "delete_cmd_postfix": "",
     "delete_cmd_prefix": "del ",
     "library": "var_list.py",
     "varRefreshCmd": "print(var_dic_list())"
    },
    "r": {
     "delete_cmd_postfix": ") ",
     "delete_cmd_prefix": "rm(",
     "library": "var_list.r",
     "varRefreshCmd": "cat(var_dic_list()) "
    }
   },
   "types_to_exclude": [
    "module",
    "function",
    "builtin_function_or_method",
    "instance",
    "_Feature"
   ],
   "window_display": false
  }
 },
 "nbformat": 4,
 "nbformat_minor": 5
}
