{
 "cells": [
  {
   "cell_type": "code",
   "execution_count": 2,
   "id": "8a1a60a2-de2f-4553-ada9-9d7f03aa8ba6",
   "metadata": {},
   "outputs": [],
   "source": [
    "%load_ext autoreload\n",
    "%autoreload 2"
   ]
  },
  {
   "cell_type": "code",
   "execution_count": 1,
   "id": "79717306-fefd-4485-b099-04a4eb4165ee",
   "metadata": {},
   "outputs": [],
   "source": [
    "import pandas as pd\n",
    "import numpy as np\n",
    "import seaborn as sns\n",
    "import matplotlib.pyplot as plt\n",
    "\n",
    "sns.set()\n",
    "\n",
    "from tqdm.auto import tqdm"
   ]
  },
  {
   "cell_type": "code",
   "execution_count": 5,
   "id": "359ad44b-fc69-4e0a-9b1e-5bb59a0e4301",
   "metadata": {},
   "outputs": [],
   "source": [
    "from dotenv import load_dotenv\n",
    "import os\n",
    "import finnhub"
   ]
  },
  {
   "cell_type": "code",
   "execution_count": 6,
   "id": "cc82a875-c20e-47a0-89eb-9d379b740289",
   "metadata": {},
   "outputs": [
    {
     "data": {
      "text/plain": [
       "True"
      ]
     },
     "execution_count": 6,
     "metadata": {},
     "output_type": "execute_result"
    }
   ],
   "source": [
    "load_dotenv()  # take environment variables from .env."
   ]
  },
  {
   "cell_type": "markdown",
   "id": "a3083404-ca0b-4bda-83fe-e82a09685f7c",
   "metadata": {},
   "source": [
    "## load data"
   ]
  },
  {
   "cell_type": "code",
   "execution_count": 60,
   "id": "25f7efe5-e51f-4e02-89a4-49acf40a0c38",
   "metadata": {},
   "outputs": [],
   "source": [
    "API_KEY = os.getenv(\"API_KEY\")\n",
    "# print(f\"using {API_KEY=} for api\")"
   ]
  },
  {
   "cell_type": "code",
   "execution_count": 8,
   "id": "1f11bab4-e9cb-4486-a485-6f7219aaab94",
   "metadata": {},
   "outputs": [],
   "source": [
    "# Setup client\n",
    "finnhub_client = finnhub.Client(api_key=API_KEY)"
   ]
  },
  {
   "cell_type": "code",
   "execution_count": 48,
   "id": "a4192c75-89ac-4340-a421-176db0b58789",
   "metadata": {},
   "outputs": [],
   "source": [
    "from_date = pd.to_datetime(\"2021-11-01\")\n",
    "to_date = pd.to_datetime(\"2021-11-05\")\n",
    "ticker = 'AAPL'"
   ]
  },
  {
   "cell_type": "code",
   "execution_count": 49,
   "id": "e23d3569-4d7e-44da-b4d1-8fb6775e0084",
   "metadata": {},
   "outputs": [
    {
     "name": "stdout",
     "output_type": "stream",
     "text": [
      "loading date from_date=Timestamp('2021-11-01 00:00:00') to_date=Timestamp('2021-11-05 00:00:00')\n"
     ]
    }
   ],
   "source": [
    "print(f\"loading date {from_date=} {to_date=}\")"
   ]
  },
  {
   "cell_type": "code",
   "execution_count": 50,
   "id": "5fcf3920-a6d7-402b-9c5c-e143e83879ce",
   "metadata": {},
   "outputs": [],
   "source": [
    "res = finnhub_client.stock_candles(\n",
    "    ticker, 1, int(from_date.timestamp()), int(to_date.timestamp())\n",
    ")"
   ]
  },
  {
   "cell_type": "code",
   "execution_count": 51,
   "id": "8a90126f-448f-47ef-ad93-dab6b5150d33",
   "metadata": {},
   "outputs": [],
   "source": [
    "df = pd.DataFrame(res)"
   ]
  },
  {
   "cell_type": "code",
   "execution_count": 52,
   "id": "063d3216-fcb7-4f24-8893-74b9ee2453e5",
   "metadata": {},
   "outputs": [
    {
     "data": {
      "text/html": [
       "<div>\n",
       "<style scoped>\n",
       "    .dataframe tbody tr th:only-of-type {\n",
       "        vertical-align: middle;\n",
       "    }\n",
       "\n",
       "    .dataframe tbody tr th {\n",
       "        vertical-align: top;\n",
       "    }\n",
       "\n",
       "    .dataframe thead th {\n",
       "        text-align: right;\n",
       "    }\n",
       "</style>\n",
       "<table border=\"1\" class=\"dataframe\">\n",
       "  <thead>\n",
       "    <tr style=\"text-align: right;\">\n",
       "      <th></th>\n",
       "      <th>c</th>\n",
       "      <th>h</th>\n",
       "      <th>l</th>\n",
       "      <th>o</th>\n",
       "      <th>s</th>\n",
       "      <th>t</th>\n",
       "      <th>v</th>\n",
       "    </tr>\n",
       "  </thead>\n",
       "  <tbody>\n",
       "    <tr>\n",
       "      <th>0</th>\n",
       "      <td>150.15</td>\n",
       "      <td>150.15</td>\n",
       "      <td>149.95</td>\n",
       "      <td>149.95</td>\n",
       "      <td>ok</td>\n",
       "      <td>1635753600</td>\n",
       "      <td>2289</td>\n",
       "    </tr>\n",
       "    <tr>\n",
       "      <th>1</th>\n",
       "      <td>150.00</td>\n",
       "      <td>150.00</td>\n",
       "      <td>150.00</td>\n",
       "      <td>150.00</td>\n",
       "      <td>ok</td>\n",
       "      <td>1635753660</td>\n",
       "      <td>747</td>\n",
       "    </tr>\n",
       "    <tr>\n",
       "      <th>2</th>\n",
       "      <td>149.97</td>\n",
       "      <td>150.00</td>\n",
       "      <td>149.97</td>\n",
       "      <td>149.98</td>\n",
       "      <td>ok</td>\n",
       "      <td>1635753720</td>\n",
       "      <td>900</td>\n",
       "    </tr>\n",
       "    <tr>\n",
       "      <th>3</th>\n",
       "      <td>150.00</td>\n",
       "      <td>150.03</td>\n",
       "      <td>150.00</td>\n",
       "      <td>150.00</td>\n",
       "      <td>ok</td>\n",
       "      <td>1635753780</td>\n",
       "      <td>2771</td>\n",
       "    </tr>\n",
       "    <tr>\n",
       "      <th>4</th>\n",
       "      <td>149.95</td>\n",
       "      <td>150.00</td>\n",
       "      <td>149.95</td>\n",
       "      <td>150.00</td>\n",
       "      <td>ok</td>\n",
       "      <td>1635753840</td>\n",
       "      <td>1961</td>\n",
       "    </tr>\n",
       "  </tbody>\n",
       "</table>\n",
       "</div>"
      ],
      "text/plain": [
       "        c       h       l       o   s           t     v\n",
       "0  150.15  150.15  149.95  149.95  ok  1635753600  2289\n",
       "1  150.00  150.00  150.00  150.00  ok  1635753660   747\n",
       "2  149.97  150.00  149.97  149.98  ok  1635753720   900\n",
       "3  150.00  150.03  150.00  150.00  ok  1635753780  2771\n",
       "4  149.95  150.00  149.95  150.00  ok  1635753840  1961"
      ]
     },
     "execution_count": 52,
     "metadata": {},
     "output_type": "execute_result"
    }
   ],
   "source": [
    "df.head()"
   ]
  },
  {
   "cell_type": "code",
   "execution_count": 53,
   "id": "edf596b1-dc68-464a-a75a-edd6d28f7e1f",
   "metadata": {},
   "outputs": [],
   "source": [
    "df['timestamp'] = pd.to_datetime(df['t'], unit='s')"
   ]
  },
  {
   "cell_type": "code",
   "execution_count": 54,
   "id": "fc3a5c98-0927-4899-8782-2b913f119fc6",
   "metadata": {},
   "outputs": [
    {
     "data": {
      "text/html": [
       "<div>\n",
       "<style scoped>\n",
       "    .dataframe tbody tr th:only-of-type {\n",
       "        vertical-align: middle;\n",
       "    }\n",
       "\n",
       "    .dataframe tbody tr th {\n",
       "        vertical-align: top;\n",
       "    }\n",
       "\n",
       "    .dataframe thead th {\n",
       "        text-align: right;\n",
       "    }\n",
       "</style>\n",
       "<table border=\"1\" class=\"dataframe\">\n",
       "  <thead>\n",
       "    <tr style=\"text-align: right;\">\n",
       "      <th></th>\n",
       "      <th>c</th>\n",
       "      <th>h</th>\n",
       "      <th>l</th>\n",
       "      <th>o</th>\n",
       "      <th>s</th>\n",
       "      <th>t</th>\n",
       "      <th>v</th>\n",
       "      <th>timestamp</th>\n",
       "    </tr>\n",
       "  </thead>\n",
       "  <tbody>\n",
       "    <tr>\n",
       "      <th>0</th>\n",
       "      <td>150.15</td>\n",
       "      <td>150.15</td>\n",
       "      <td>149.95</td>\n",
       "      <td>149.95</td>\n",
       "      <td>ok</td>\n",
       "      <td>1635753600</td>\n",
       "      <td>2289</td>\n",
       "      <td>2021-11-01 08:00:00</td>\n",
       "    </tr>\n",
       "    <tr>\n",
       "      <th>1</th>\n",
       "      <td>150.00</td>\n",
       "      <td>150.00</td>\n",
       "      <td>150.00</td>\n",
       "      <td>150.00</td>\n",
       "      <td>ok</td>\n",
       "      <td>1635753660</td>\n",
       "      <td>747</td>\n",
       "      <td>2021-11-01 08:01:00</td>\n",
       "    </tr>\n",
       "    <tr>\n",
       "      <th>2</th>\n",
       "      <td>149.97</td>\n",
       "      <td>150.00</td>\n",
       "      <td>149.97</td>\n",
       "      <td>149.98</td>\n",
       "      <td>ok</td>\n",
       "      <td>1635753720</td>\n",
       "      <td>900</td>\n",
       "      <td>2021-11-01 08:02:00</td>\n",
       "    </tr>\n",
       "    <tr>\n",
       "      <th>3</th>\n",
       "      <td>150.00</td>\n",
       "      <td>150.03</td>\n",
       "      <td>150.00</td>\n",
       "      <td>150.00</td>\n",
       "      <td>ok</td>\n",
       "      <td>1635753780</td>\n",
       "      <td>2771</td>\n",
       "      <td>2021-11-01 08:03:00</td>\n",
       "    </tr>\n",
       "    <tr>\n",
       "      <th>4</th>\n",
       "      <td>149.95</td>\n",
       "      <td>150.00</td>\n",
       "      <td>149.95</td>\n",
       "      <td>150.00</td>\n",
       "      <td>ok</td>\n",
       "      <td>1635753840</td>\n",
       "      <td>1961</td>\n",
       "      <td>2021-11-01 08:04:00</td>\n",
       "    </tr>\n",
       "  </tbody>\n",
       "</table>\n",
       "</div>"
      ],
      "text/plain": [
       "        c       h       l       o   s           t     v           timestamp\n",
       "0  150.15  150.15  149.95  149.95  ok  1635753600  2289 2021-11-01 08:00:00\n",
       "1  150.00  150.00  150.00  150.00  ok  1635753660   747 2021-11-01 08:01:00\n",
       "2  149.97  150.00  149.97  149.98  ok  1635753720   900 2021-11-01 08:02:00\n",
       "3  150.00  150.03  150.00  150.00  ok  1635753780  2771 2021-11-01 08:03:00\n",
       "4  149.95  150.00  149.95  150.00  ok  1635753840  1961 2021-11-01 08:04:00"
      ]
     },
     "execution_count": 54,
     "metadata": {},
     "output_type": "execute_result"
    }
   ],
   "source": [
    "df.head()"
   ]
  },
  {
   "cell_type": "code",
   "execution_count": 56,
   "id": "6d69a19e-c1b6-4f77-9727-00debda34426",
   "metadata": {},
   "outputs": [
    {
     "data": {
      "image/png": "[encoded data removed]",
      "text/plain": [
       "<Figure size 1152x576 with 1 Axes>"
      ]
     },
     "metadata": {},
     "output_type": "display_data"
    }
   ],
   "source": [
    "fig, axs = plt.subplots(figsize=(16, 8))\n",
    "plt.title(ticker)\n",
    "sns.lineplot(x='timestamp', y='c', data=df);"
   ]
  },
  {
   "cell_type": "markdown",
   "id": "ca27feab-08ba-4fef-a1c5-9db8582f4052",
   "metadata": {},
   "source": [
    "## market"
   ]
  },
  {
   "cell_type": "code",
   "execution_count": null,
   "id": "503a567c-0148-4e96-ad5d-1cefecb13e86",
   "metadata": {},
   "outputs": [],
   "source": []
  }
 ],
 "metadata": {
  "kernelspec": {
   "display_name": "Python 3 (ipykernel)",
   "language": "python",
   "name": "python3"
  },
  "language_info": {
   "codemirror_mode": {
    "name": "ipython",
    "version": 3
   },
   "file_extension": ".py",
   "mimetype": "text/x-python",
   "name": "python",
   "nbconvert_exporter": "python",
   "pygments_lexer": "ipython3",
   "version": "3.8.6"
  }
 },
 "nbformat": 4,
 "nbformat_minor": 5
}
